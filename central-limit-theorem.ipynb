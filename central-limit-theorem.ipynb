{
 "cells": [
  {
   "cell_type": "markdown",
   "metadata": {},
   "source": [
    "# The Central Limit Theorem - A first approach"
   ]
  },
  {
   "cell_type": "markdown",
   "metadata": {},
   "source": [
    "## 📚  1) Introduction to the CLT"
   ]
  },
  {
   "cell_type": "markdown",
   "metadata": {},
   "source": [
    "🚀  **Two convergence theorems revolutionized the disciplines of probability and statistics:**\n",
    "- **`LLN`: the Law of Large Numbers**\n",
    "- **`CLT`: the Central Limit Theorem**\n",
    "\n",
    "🧑🏻‍🏫  What is the CLT ? According to [Wikipedia](https://en.wikipedia.org/wiki/Central_limit_theorem)\n",
    "\n",
    "> The CLT states that when independent random variables are summed up, their normalized sum tends towards a **`Gaussian distribution`**  even if the original variables themselves were not normally distributed.\n",
    "\n",
    "> The Gaussian distribution is also known as a **`Normal Distribution`** or a **`bell curve`**.\n",
    "\n",
    "\n",
    "<details>\n",
    "    <summary>Why is the CLT a key concept of probability theory?</summary>\n",
    "    \n",
    "👉   Because it implies that probabilistic and statistical methods that work for normal distributions can be applicable to many problems involving other types of distributions.\n",
    "    \n",
    "🤔   Not clear for you yet ? No problem, we will elaborate on this during the `Decision Science - Inferential Statistics` chapter\n",
    "    \n",
    "As we love to say at ***`Le Wagon`***, ***Trust the process!***\n",
    "    \n",
    "</details>"
   ]
  },
  {
   "cell_type": "markdown",
   "metadata": {},
   "source": [
    "🎯  Let's illustrate how to use the [Central Limit Theorem](https://en.wikipedia.org/wiki/Central_limit_theorem) in a dataset:\n",
    "\n",
    "* Given a population, let's consider a feature (example: size, weight, salary, etc...) for each individual.\n",
    "\n",
    "\n",
    "🚀  The important takeaway of these two theorems is that **whatever the shape of the distribution** of a given feature over the population **is**, **the distribution of the (sampled) mean<u>S</u> tends to be Gaussian**:\n",
    "* `the mean of the means` = $ \\mu$ (Law of Large Numbers)\n",
    "* `the standard deviation of the means` = $ \\frac{\\sigma}{\\sqrt{n}} $  (Central Limit Theorem)\n",
    "\n",
    "![](https://upload.wikimedia.org/wikipedia/commons/thumb/7/7b/IllustrationCentralTheorem.png/400px-IllustrationCentralTheorem.png)\n",
    "\n",
    "💡  We can wrap it up the following way:\n",
    "\n",
    "$$ \\large \\bar{X} \\approx_{n \\rightarrow \\infty} \\mathcal{N}(\\mu,\\frac{\\sigma}{\\sqrt{n}}) $$"
   ]
  },
  {
   "cell_type": "markdown",
   "metadata": {},
   "source": [
    "Not convinced?  Play by yourself with this [no-code dataviz tool](https://seeing-theory.brown.edu/probability-distributions/) first! \n",
    " (section CTL)\n",
    "\n",
    "<img src=\"https://wagon-public-datasets.s3.amazonaws.com/data-science-images/math/ctl_playground.png\" width=500>\n"
   ]
  },
  {
   "cell_type": "markdown",
   "metadata": {},
   "source": [
    "👩🏻‍🔬  Now, let's verify this experimentally with Python!"
   ]
  },
  {
   "cell_type": "markdown",
   "metadata": {},
   "source": [
    "---"
   ]
  },
  {
   "cell_type": "markdown",
   "metadata": {},
   "source": [
    "## 🔢  2) The Dataset"
   ]
  },
  {
   "cell_type": "markdown",
   "metadata": {},
   "source": [
    "👉 In this challenge, we will use the `tips` dataset from the `seaborn` library to illustrate the Central Limit Theorem."
   ]
  },
  {
   "cell_type": "code",
   "execution_count": 1,
   "metadata": {},
   "outputs": [],
   "source": [
    "# --- Data Manipulation ---\n",
    "import numpy as np\n",
    "import pandas as pd\n",
    "\n",
    "# --- Data Visualization ---\n",
    "import seaborn as sns\n",
    "import matplotlib.pyplot as plt\n",
    "\n",
    "# --- Maths ---\n",
    "import math"
   ]
  },
  {
   "cell_type": "code",
   "execution_count": 2,
   "metadata": {},
   "outputs": [
    {
     "data": {
      "text/html": [
       "<div>\n",
       "<style scoped>\n",
       "    .dataframe tbody tr th:only-of-type {\n",
       "        vertical-align: middle;\n",
       "    }\n",
       "\n",
       "    .dataframe tbody tr th {\n",
       "        vertical-align: top;\n",
       "    }\n",
       "\n",
       "    .dataframe thead th {\n",
       "        text-align: right;\n",
       "    }\n",
       "</style>\n",
       "<table border=\"1\" class=\"dataframe\">\n",
       "  <thead>\n",
       "    <tr style=\"text-align: right;\">\n",
       "      <th></th>\n",
       "      <th>total_bill</th>\n",
       "      <th>tip</th>\n",
       "      <th>sex</th>\n",
       "      <th>smoker</th>\n",
       "      <th>day</th>\n",
       "      <th>time</th>\n",
       "      <th>size</th>\n",
       "    </tr>\n",
       "  </thead>\n",
       "  <tbody>\n",
       "    <tr>\n",
       "      <th>0</th>\n",
       "      <td>16.99</td>\n",
       "      <td>1.01</td>\n",
       "      <td>Female</td>\n",
       "      <td>No</td>\n",
       "      <td>Sun</td>\n",
       "      <td>Dinner</td>\n",
       "      <td>2</td>\n",
       "    </tr>\n",
       "    <tr>\n",
       "      <th>1</th>\n",
       "      <td>10.34</td>\n",
       "      <td>1.66</td>\n",
       "      <td>Male</td>\n",
       "      <td>No</td>\n",
       "      <td>Sun</td>\n",
       "      <td>Dinner</td>\n",
       "      <td>3</td>\n",
       "    </tr>\n",
       "    <tr>\n",
       "      <th>2</th>\n",
       "      <td>21.01</td>\n",
       "      <td>3.50</td>\n",
       "      <td>Male</td>\n",
       "      <td>No</td>\n",
       "      <td>Sun</td>\n",
       "      <td>Dinner</td>\n",
       "      <td>3</td>\n",
       "    </tr>\n",
       "    <tr>\n",
       "      <th>3</th>\n",
       "      <td>23.68</td>\n",
       "      <td>3.31</td>\n",
       "      <td>Male</td>\n",
       "      <td>No</td>\n",
       "      <td>Sun</td>\n",
       "      <td>Dinner</td>\n",
       "      <td>2</td>\n",
       "    </tr>\n",
       "    <tr>\n",
       "      <th>4</th>\n",
       "      <td>24.59</td>\n",
       "      <td>3.61</td>\n",
       "      <td>Female</td>\n",
       "      <td>No</td>\n",
       "      <td>Sun</td>\n",
       "      <td>Dinner</td>\n",
       "      <td>4</td>\n",
       "    </tr>\n",
       "    <tr>\n",
       "      <th>...</th>\n",
       "      <td>...</td>\n",
       "      <td>...</td>\n",
       "      <td>...</td>\n",
       "      <td>...</td>\n",
       "      <td>...</td>\n",
       "      <td>...</td>\n",
       "      <td>...</td>\n",
       "    </tr>\n",
       "    <tr>\n",
       "      <th>239</th>\n",
       "      <td>29.03</td>\n",
       "      <td>5.92</td>\n",
       "      <td>Male</td>\n",
       "      <td>No</td>\n",
       "      <td>Sat</td>\n",
       "      <td>Dinner</td>\n",
       "      <td>3</td>\n",
       "    </tr>\n",
       "    <tr>\n",
       "      <th>240</th>\n",
       "      <td>27.18</td>\n",
       "      <td>2.00</td>\n",
       "      <td>Female</td>\n",
       "      <td>Yes</td>\n",
       "      <td>Sat</td>\n",
       "      <td>Dinner</td>\n",
       "      <td>2</td>\n",
       "    </tr>\n",
       "    <tr>\n",
       "      <th>241</th>\n",
       "      <td>22.67</td>\n",
       "      <td>2.00</td>\n",
       "      <td>Male</td>\n",
       "      <td>Yes</td>\n",
       "      <td>Sat</td>\n",
       "      <td>Dinner</td>\n",
       "      <td>2</td>\n",
       "    </tr>\n",
       "    <tr>\n",
       "      <th>242</th>\n",
       "      <td>17.82</td>\n",
       "      <td>1.75</td>\n",
       "      <td>Male</td>\n",
       "      <td>No</td>\n",
       "      <td>Sat</td>\n",
       "      <td>Dinner</td>\n",
       "      <td>2</td>\n",
       "    </tr>\n",
       "    <tr>\n",
       "      <th>243</th>\n",
       "      <td>18.78</td>\n",
       "      <td>3.00</td>\n",
       "      <td>Female</td>\n",
       "      <td>No</td>\n",
       "      <td>Thur</td>\n",
       "      <td>Dinner</td>\n",
       "      <td>2</td>\n",
       "    </tr>\n",
       "  </tbody>\n",
       "</table>\n",
       "<p>244 rows × 7 columns</p>\n",
       "</div>"
      ],
      "text/plain": [
       "     total_bill   tip     sex smoker   day    time  size\n",
       "0         16.99  1.01  Female     No   Sun  Dinner     2\n",
       "1         10.34  1.66    Male     No   Sun  Dinner     3\n",
       "2         21.01  3.50    Male     No   Sun  Dinner     3\n",
       "3         23.68  3.31    Male     No   Sun  Dinner     2\n",
       "4         24.59  3.61  Female     No   Sun  Dinner     4\n",
       "..          ...   ...     ...    ...   ...     ...   ...\n",
       "239       29.03  5.92    Male     No   Sat  Dinner     3\n",
       "240       27.18  2.00  Female    Yes   Sat  Dinner     2\n",
       "241       22.67  2.00    Male    Yes   Sat  Dinner     2\n",
       "242       17.82  1.75    Male     No   Sat  Dinner     2\n",
       "243       18.78  3.00  Female     No  Thur  Dinner     2\n",
       "\n",
       "[244 rows x 7 columns]"
      ]
     },
     "execution_count": 2,
     "metadata": {},
     "output_type": "execute_result"
    }
   ],
   "source": [
    "tips_df = sns.load_dataset('tips')\n",
    "tips_df"
   ]
  },
  {
   "cell_type": "markdown",
   "metadata": {},
   "source": [
    "### 🧐  2.1) Exploratory Data Analysis (EDA)"
   ]
  },
  {
   "cell_type": "markdown",
   "metadata": {},
   "source": [
    "❓ How many rows are available in the dataset ❓"
   ]
  },
  {
   "cell_type": "code",
   "execution_count": null,
   "metadata": {
    "tags": [
     "challengify"
    ]
   },
   "outputs": [],
   "source": [
    "# YOUR CODE HERE"
   ]
  },
  {
   "cell_type": "markdown",
   "metadata": {},
   "source": [
    "❓ Plot the distribution of the `tip` column 📊 (with 20 bins) ❓"
   ]
  },
  {
   "cell_type": "code",
   "execution_count": null,
   "metadata": {
    "tags": [
     "challengify"
    ]
   },
   "outputs": [],
   "source": [
    "# YOUR CODE HERE"
   ]
  },
  {
   "cell_type": "markdown",
   "metadata": {},
   "source": [
    "❓ Question 1 ❓\n",
    "\n",
    "What are :\n",
    "* the ***average tip***\n",
    "* the ***standard deviation tip*** \n",
    "* the  [***skewness of the tips***](https://en.wikipedia.org/wiki/Skewness)\n",
    "\n",
    "of the tips? \n",
    "\n",
    "Store them into three variables called respectively `tips_mu`, `tips_sigma` and `tips_skew`"
   ]
  },
  {
   "cell_type": "code",
   "execution_count": 5,
   "metadata": {
    "tags": [
     "challengify"
    ]
   },
   "outputs": [
    {
     "name": "stdout",
     "output_type": "stream",
     "text": [
      "The number of rows in the dataset is: 244\n"
     ]
    },
    {
     "data": {
      "image/png": "[encoded data removed]",
      "text/plain": [
       "<Figure size 640x480 with 1 Axes>"
      ]
     },
     "metadata": {},
     "output_type": "display_data"
    },
    {
     "name": "stdout",
     "output_type": "stream",
     "text": [
      "Average tip (mean): $3.00\n",
      "Standard deviation of tips: $1.38\n",
      "Skewness of tips: 1.4654510370979401\n"
     ]
    }
   ],
   "source": [
    "num_rows = tips_df.shape[0]\n",
    "print(f\"The number of rows in the dataset is: {num_rows}\")\n",
    "\n",
    "sns.histplot(tips_df['tip'], bins=20)\n",
    "plt.title('Distribution of Tips')\n",
    "plt.xlabel('Tip Amount ($)')\n",
    "plt.ylabel('Frequency')\n",
    "plt.show()\n",
    "\n",
    "tips_mu = tips_df['tip'].mean()\n",
    "tips_sigma = tips_df['tip'].std()\n",
    "tips_skew = tips_df['tip'].skew()\n",
    "\n",
    "print(f\"Average tip (mean): ${tips_mu:.2f}\")\n",
    "print(f\"Standard deviation of tips: ${tips_sigma:.2f}\")\n",
    "print(f\"Skewness of tips: {tips_skew}\")"
   ]
  },
  {
   "cell_type": "markdown",
   "metadata": {},
   "source": [
    "❓ Question 2 ❓\n",
    "\n",
    "What is the skewness of the tips: left, right, non-skewed? Store your answer in a string variable called `skewness`"
   ]
  },
  {
   "cell_type": "code",
   "execution_count": 6,
   "metadata": {
    "tags": [
     "challengify"
    ]
   },
   "outputs": [
    {
     "name": "stdout",
     "output_type": "stream",
     "text": [
      "The skewness of the tips is: right\n"
     ]
    }
   ],
   "source": [
    "if tips_skew < 0:\n",
    "    skewness = \"left\"\n",
    "elif tips_skew > 0:\n",
    "    skewness = \"right\"\n",
    "else:\n",
    "    skewness = \"non-skewed\"\n",
    "\n",
    "print(f\"The skewness of the tips is: {skewness}\")"
   ]
  },
  {
   "cell_type": "code",
   "execution_count": 7,
   "metadata": {},
   "outputs": [
    {
     "data": {
      "text/plain": [
       "count    244.000000\n",
       "mean       2.998279\n",
       "std        1.383638\n",
       "min        1.000000\n",
       "25%        2.000000\n",
       "50%        2.900000\n",
       "75%        3.562500\n",
       "max       10.000000\n",
       "Name: tip, dtype: float64"
      ]
     },
     "execution_count": 7,
     "metadata": {},
     "output_type": "execute_result"
    }
   ],
   "source": [
    "tips_df.tip.describe()"
   ]
  },
  {
   "cell_type": "markdown",
   "metadata": {},
   "source": [
    "<details>\n",
    "    <summary>Answer for the question related to the skewness:</summary>\n",
    "\n",
    "* the \"mode\" seems to be around 2 dollars `(we can't really talk about a mode for a continuous variable but just looking at the histogram with 20 bins, we can give an estimation)\n",
    "    \n",
    "* the \"mean\" is at 2.99 dollars\n",
    "    \n",
    "* the median is at 2.90 dollars\n",
    "    \n",
    "So here we have $ mode < median < mean $ which correspond to a `right skewness` if you go back to the `Statistics and Probability` slides 😉\n",
    "    \n",
    "    \n",
    "</details>"
   ]
  },
  {
   "cell_type": "markdown",
   "metadata": {},
   "source": [
    " 🧪 **Test your code**"
   ]
  },
  {
   "cell_type": "code",
   "execution_count": 8,
   "metadata": {},
   "outputs": [
    {
     "name": "stdout",
     "output_type": "stream",
     "text": [
      "\n",
      "\u001b[1m============================= test session starts ==============================\u001b[0m\n",
      "platform darwin -- Python 3.10.6, pytest-7.1.3, pluggy-1.0.0 -- /Users/francoisgirard/.pyenv/versions/lewagon/bin/python3\n",
      "cachedir: .pytest_cache\n",
      "rootdir: /Users/francoisgirard/code/francoisgirard51/03-Maths/02-Statistics-Probabilities/data-central-limit-theorem/tests\n",
      "plugins: asyncio-0.19.0, anyio-3.6.2\n",
      "asyncio: mode=strict\n",
      "\u001b[1mcollecting ... \u001b[0mcollected 5 items\n",
      "\n",
      "test_distribution.py::TestDistribution::test_mean_is_a_float \u001b[32mPASSED\u001b[0m\u001b[32m      [ 20%]\u001b[0m\n",
      "test_distribution.py::TestDistribution::test_mean_value \u001b[32mPASSED\u001b[0m\u001b[32m           [ 40%]\u001b[0m\n",
      "test_distribution.py::TestDistribution::test_skewness_is_right \u001b[32mPASSED\u001b[0m\u001b[32m    [ 60%]\u001b[0m\n",
      "test_distribution.py::TestDistribution::test_standard_deviation_is_a_float \u001b[32mPASSED\u001b[0m\u001b[32m [ 80%]\u001b[0m\n",
      "test_distribution.py::TestDistribution::test_standard_deviation_value \u001b[32mPASSED\u001b[0m\u001b[32m [100%]\u001b[0m\n",
      "\n",
      "\u001b[32m============================== \u001b[32m\u001b[1m5 passed\u001b[0m\u001b[32m in 0.16s\u001b[0m\u001b[32m ===============================\u001b[0m\n",
      "\n",
      "\n",
      "💯 You can commit your code:\n",
      "\n",
      "\u001b[1;32mgit\u001b[39m add tests/distribution.pickle\n",
      "\n",
      "\u001b[32mgit\u001b[39m commit -m \u001b[33m'Completed distribution step'\u001b[39m\n",
      "\n",
      "\u001b[32mgit\u001b[39m push origin master\n",
      "\n"
     ]
    }
   ],
   "source": [
    "from nbresult import ChallengeResult\n",
    "\n",
    "result = ChallengeResult('distribution',\n",
    "    skewness=skewness,\n",
    "    mu=tips_mu,\n",
    "    sigma=tips_sigma\n",
    ")\n",
    "result.write()\n",
    "print(result.check())"
   ]
  },
  {
   "cell_type": "markdown",
   "metadata": {},
   "source": [
    "### 🎲 2.2) Sampling mean"
   ]
  },
  {
   "cell_type": "markdown",
   "metadata": {},
   "source": [
    "❓ Pick randomly - and with replacement - 10 rows of the dataset, and compute the mean $\\bar{X}$ of that sample ❓\n",
    "\n",
    "👉 Run the cell a few times. Do you get the same result each time? Is this expected?"
   ]
  },
  {
   "cell_type": "code",
   "execution_count": 9,
   "metadata": {
    "tags": [
     "challengify"
    ]
   },
   "outputs": [
    {
     "name": "stdout",
     "output_type": "stream",
     "text": [
      "Mean tip of the sampled data: $2.60\n"
     ]
    }
   ],
   "source": [
    "sample_mean = tips_df.sample(n=10, replace=True)['tip'].mean()\n",
    "print(f\"Mean tip of the sampled data: ${sample_mean:.2f}\")"
   ]
  },
  {
   "cell_type": "markdown",
   "metadata": {},
   "source": [
    "---"
   ]
  },
  {
   "cell_type": "markdown",
   "metadata": {},
   "source": [
    "## 🔥 3) Applying the CLT"
   ]
  },
  {
   "cell_type": "markdown",
   "metadata": {},
   "source": [
    "### 3.1) <u>Graphically</u>"
   ]
  },
  {
   "cell_type": "markdown",
   "metadata": {},
   "source": [
    "👉 Create a `means` list storing a list of means of $N$ samples of size $n$.\n",
    "\n",
    "Start with $n = 5$ and $N = 10$\n",
    "\n",
    "📊  In the same cell, **plot** the distribution of `means`. \n",
    "\n",
    "🧐 Let's play with the <u>*sample size n*</u> and the <u>*number of samples N</u>*:\n",
    "* Keep $n$ constant, increase $N$ and observe. What do you conclude?"
   ]
  },
  {
   "cell_type": "code",
   "execution_count": 10,
   "metadata": {
    "tags": [
     "challengify"
    ]
   },
   "outputs": [
    {
     "data": {
      "image/png": "[encoded data removed]",
      "text/plain": [
       "<Figure size 640x480 with 1 Axes>"
      ]
     },
     "metadata": {},
     "output_type": "display_data"
    }
   ],
   "source": [
    "n = 5\n",
    "N = 10\n",
    "\n",
    "# Sample the data N times and store the means\n",
    "means = [tips_df.sample(n=n, replace=True)['tip'].mean() for _ in range(N)]\n",
    "\n",
    "# Plot the distribution of means\n",
    "sns.histplot(means, bins=10, kde=True)\n",
    "plt.title('Distribution of Sample Means')\n",
    "plt.xlabel('Sample Mean ($)')\n",
    "plt.ylabel('Frequency')\n",
    "plt.show()"
   ]
  },
  {
   "cell_type": "markdown",
   "metadata": {},
   "source": [
    "<details>\n",
    "    <summary>What is happening when <u><i>n is fixed</i></u> and <u><i>N increases</i></u>?</summary>\n",
    "\n",
    "* `N` (how many times we sample) controls the random noise. \n",
    "\n",
    "* When large enough, histograms always look the same when you re-run the cell. To convince yourself, re-run the previous cell several times with with N = 5000\n",
    "\n",
    "</details>"
   ]
  },
  {
   "cell_type": "markdown",
   "metadata": {},
   "source": [
    "* Now, keep $N$ constant, increase $n$ and observe. What do you conclude?"
   ]
  },
  {
   "cell_type": "code",
   "execution_count": 11,
   "metadata": {},
   "outputs": [
    {
     "data": {
      "text/plain": [
       "<AxesSubplot:ylabel='Count'>"
      ]
     },
     "execution_count": 11,
     "metadata": {},
     "output_type": "execute_result"
    },
    {
     "data": {
      "image/png": "[encoded data removed]",
      "text/plain": [
       "<Figure size 640x480 with 1 Axes>"
      ]
     },
     "metadata": {},
     "output_type": "display_data"
    }
   ],
   "source": [
    "n = 2 \n",
    "N = 100\n",
    "means = [tips_df.tip.sample(n, replace=True).mean() for i in range(N)]\n",
    "\n",
    "sns.histplot(means, bins=20)"
   ]
  },
  {
   "cell_type": "code",
   "execution_count": 12,
   "metadata": {},
   "outputs": [
    {
     "data": {
      "text/plain": [
       "<AxesSubplot:ylabel='Count'>"
      ]
     },
     "execution_count": 12,
     "metadata": {},
     "output_type": "execute_result"
    },
    {
     "data": {
      "image/png": "[encoded data removed]",
      "text/plain": [
       "<Figure size 640x480 with 1 Axes>"
      ]
     },
     "metadata": {},
     "output_type": "display_data"
    }
   ],
   "source": [
    "n = 30 # CLT applies mostly with n greater than 30\n",
    "N = 100\n",
    "means = [tips_df.tip.sample(n, replace=True).mean() for i in range(N)]\n",
    "\n",
    "sns.histplot(means, bins=20)"
   ]
  },
  {
   "cell_type": "markdown",
   "metadata": {},
   "source": [
    "<details>\n",
    "    <summary>What is happening when <u><i>N is fixed</i></u> and <u><i>n increases</i></u>?</summary>\n",
    "    \n",
    "* `n` (sample size) controls the shape of the distribution. \n",
    "\n",
    "* When large enough, it *converges* towards a Normal distribution. This is the Central Limit Theorem. \n",
    "\n",
    "</details>\n",
    "\n"
   ]
  },
  {
   "cell_type": "markdown",
   "metadata": {},
   "source": [
    "### 3.2) <u>Numerically</u>"
   ]
  },
  {
   "cell_type": "markdown",
   "metadata": {},
   "source": [
    "❓ Let's verify the Central Limit Theorem computationally ❓\n",
    "- Compare `tips_mu` with the mean of means\n",
    "- Compare `tips_sigma` with the standard deviation of the means, but don't forget the $\\sqrt n$ adjustment\n",
    "- Compute the `skewness` of the distribution of the means using `scipy.stats.skew` (should be close to 0)\n",
    "- Compute the `kurtosis` of the distribution of the means using `scipy.stats.kurtosis`(should be close to 0)\n"
   ]
  },
  {
   "cell_type": "code",
   "execution_count": 14,
   "metadata": {},
   "outputs": [
    {
     "name": "stdout",
     "output_type": "stream",
     "text": [
      "Original average tip (mean): $3.00\n",
      "Mean of means: $3.03\n",
      "\n",
      "Original standard deviation of tips: $1.38\n",
      "Standard deviation of means (adjusted by sqrt(n)): $0.25\n",
      "Standard deviation of means: $0.27\n",
      "\n",
      "Skewness of the distribution of means: 0.2952816548467833\n",
      "Kurtosis of the distribution of means: -0.41626103138778614\n"
     ]
    }
   ],
   "source": [
    "from scipy.stats import skew, kurtosis\n",
    "\n",
    "# Assuming you've already stored means from previous steps\n",
    "mean_of_means = np.mean(means)\n",
    "std_of_means = np.std(means)\n",
    "adjusted_tips_sigma = tips_sigma / math.sqrt(n)\n",
    "\n",
    "print(f\"Original average tip (mean): ${tips_mu:.2f}\")\n",
    "print(f\"Mean of means: ${mean_of_means:.2f}\\n\")\n",
    "\n",
    "print(f\"Original standard deviation of tips: ${tips_sigma:.2f}\")\n",
    "print(f\"Standard deviation of means (adjusted by sqrt(n)): ${adjusted_tips_sigma:.2f}\")\n",
    "print(f\"Standard deviation of means: ${std_of_means:.2f}\\n\")\n",
    "\n",
    "sample_skew = skew(means)\n",
    "sample_kurtosis = kurtosis(means)\n",
    "\n",
    "print(f\"Skewness of the distribution of means: {sample_skew}\")\n",
    "print(f\"Kurtosis of the distribution of means: {sample_kurtosis}\")\n"
   ]
  },
  {
   "cell_type": "markdown",
   "metadata": {},
   "source": [
    "## 💪  4) Use case: Probabilities of accumulating large tips at the end of a work-day"
   ]
  },
  {
   "cell_type": "markdown",
   "metadata": {},
   "source": [
    "🤔 Let's pick 100 meals from the dataset, sampling with replacement. What is the probability that the cumulated tips ends up being **greater than 350€**?\n"
   ]
  },
  {
   "cell_type": "markdown",
   "metadata": {},
   "source": [
    "1️⃣ Before we answer this question, start by familiarizing yourself with the [**`scipy.stats.norm.pdf`**](https://docs.scipy.org/doc/scipy/reference/generated/scipy.stats.norm.html) tool: \n",
    "\n",
    "❓ Can you plot a Normal Distribution pdf with a mean and standard deviation of your choice?"
   ]
  },
  {
   "cell_type": "code",
   "execution_count": 28,
   "metadata": {},
   "outputs": [
    {
     "name": "stdout",
     "output_type": "stream",
     "text": [
      "Probability that cumulated tips from 100 meals exceed $350: 0.0005\n"
     ]
    },
    {
     "data": {
      "image/png": "[encoded data removed]",
      "text/plain": [
       "<Figure size 640x480 with 1 Axes>"
      ]
     },
     "metadata": {},
     "output_type": "display_data"
    }
   ],
   "source": [
    "from scipy.stats import norm\n",
    "\n",
    "mu_example = 10\n",
    "sigma_example = 7  \n",
    "\n",
    "num_samples = 10000\n",
    "counts = sum([1 for _ in range(num_samples) if tips_df.sample(100, replace=True)['tip'].sum() > 350])\n",
    "probability = counts / num_samples\n",
    "\n",
    "print(f\"Probability that cumulated tips from 100 meals exceed $350: {probability:.4f}\")\n",
    "\n",
    "# Parameters\n",
    "mu_example = 10\n",
    "sigma_example = 7\n",
    "\n",
    "# Values for x-axis\n",
    "x = np.linspace(mu_example - 4*sigma_example, mu_example + 4*sigma_example, 1000)\n",
    "\n",
    "# PDF values\n",
    "pdf_values = norm.pdf(x, mu_example, sigma_example)\n",
    "\n",
    "# Plotting\n",
    "plt.plot(x, pdf_values)\n",
    "plt.title(\"Normal Distribution PDF\")\n",
    "plt.xlabel(\"Value\")\n",
    "plt.ylabel(\"Density\")\n",
    "plt.show()"
   ]
  },
  {
   "cell_type": "markdown",
   "metadata": {},
   "source": [
    "🤗 `scipy.stats.norm.pdf` is a **convenient way to draw a Gaussian curve**.\n",
    "\n",
    "The **probability density function** (_a.k.a._ ***pdf***) of a Normal Distribution with parameters $ \\mu $ and $ \\sigma $ is defined by:\n",
    "\n",
    "$$ y = \\frac{1}{\\sigma \\sqrt{2 \\pi}} exp[-\\frac{1}{2} (\\frac{x - \\mu}{\\sigma})^2]$$\n",
    "\n",
    "😅 Without this function from Scipy, you would have to define a _Gaussian Probability Density Function_ by yourself to plot the Gaussian Curve."
   ]
  },
  {
   "cell_type": "code",
   "execution_count": 29,
   "metadata": {},
   "outputs": [],
   "source": [
    "def gaussian_probability_density_function(mu,sigma, x):\n",
    "    return 1/(sigma * np.sqrt(2*(math.pi))) * np.exp(- (1/2)*((x-mu)/sigma)**2) "
   ]
  },
  {
   "cell_type": "code",
   "execution_count": 30,
   "metadata": {},
   "outputs": [
    {
     "data": {
      "image/png": "[encoded data removed]",
      "text/plain": [
       "<Figure size 1000x500 with 2 Axes>"
      ]
     },
     "metadata": {},
     "output_type": "display_data"
    }
   ],
   "source": [
    "mu_example = 10\n",
    "sigma_example = 7\n",
    "\n",
    "# start a figure\n",
    "plt.figure(figsize=(10,5))\n",
    "\n",
    "# First subplot :\n",
    "# Plotting a Gaussian distribution using Scipy Stats\n",
    "plt.subplot(2,2,1)\n",
    "plt.plot(x, norm(mu_example, sigma_example).pdf(x), c=\"blue\")\n",
    "plt.title(\"Gaussian Curve drawn using Scipy Stats\");\n",
    "\n",
    "# Second subplot :\n",
    "# Plotting a Gaussian distribution using our own Python function\n",
    "plt.subplot(2,2,2)\n",
    "plt.plot(x, gaussian_probability_density_function(mu_example, sigma_example, x), c=\"pink\")\n",
    "plt.title(\"Gaussian curve drawn with a function\");\n"
   ]
  },
  {
   "cell_type": "markdown",
   "metadata": {},
   "source": [
    "2️⃣ Back to our exercise:\n",
    "\n",
    "<u>The real numbers:</u>\n",
    "\n",
    "From our Exploratory Data Analysis, we have:\n",
    "- 244 tips (global population)\n",
    "- $\\mu=3€$\n",
    "- $\\sigma=1.38€$\n",
    "\n",
    "<u>Sampling once</u>\n",
    "\n",
    "- Imagine that we draw a sample of size 100 out of the global population of meals\n",
    "- We observe the sum of these 100 sample tips is 350€, so the average tip $\\mu_X$ is 3.5€ for this sample\n",
    "- **The operation of drawing a sample is random, therefore the average of these sampled data will also be random**\n",
    "\n",
    "<u>Distribution of samples</u>\n",
    "\n",
    "❓ Can you guess what would be the **shape** of the **<u>distribution of the means</u>** of these samples **if we were to <u>draw many other samples</u>** of the same size like this one  \n",
    "\n",
    "❓ In other words, how do you imagine:\n",
    "- its shape?\n",
    "- its mean? (store into a variable called **`mu_expected`**)\n",
    "- its standard deviation? (store it into a variable called **`sigma_expected`**)"
   ]
  },
  {
   "cell_type": "markdown",
   "metadata": {},
   "source": [
    "<img src='https://wagon-public-datasets.s3.amazonaws.com/data-science-images/math/ctl.png' width=1000>"
   ]
  },
  {
   "cell_type": "markdown",
   "metadata": {},
   "source": [
    "<details>\n",
    "    <summary>💡 Hint:</summary>\n",
    "\n",
    "🎉 Our sample of size $ n = 100 > 30 $ can be considered large enough to apply the Central Limit Theorem (CLT) \n",
    "    \n",
    "👉 If we were to repeat this experiment (i.e. randomly picking a sample of size 100) an infinite number of times, the distribution of sample mean**s** would become exactly a normal distribution.\n",
    "    \n",
    "🔥 **A Gaussian distribution is _FULLY_ characterized by its _mean_ and its _standard deviation_**\n",
    "    \n",
    "❓ What are these mean and standard deviation in the context of a Central Limit Theorem ❓ If you forgot about it, scroll up in your notebook! \n",
    "\n",
    "</details>"
   ]
  },
  {
   "cell_type": "markdown",
   "metadata": {},
   "source": [
    "<details>\n",
    "    <summary>🧑🏻‍🏫 Answer:</summary>\n",
    "\n",
    "- Shape = Gaussian\n",
    "- `mu_expected` = `mu`\n",
    "- `sigma_expected` = `sigma` / $ \\sqrt{n} $\n",
    "</details>"
   ]
  },
  {
   "cell_type": "markdown",
   "metadata": {},
   "source": [
    "❓ Plot this expected distribution\n",
    "- On top of it, add the datapoint representing a cumulated tip of 350€ over 100 meals."
   ]
  },
  {
   "cell_type": "code",
   "execution_count": 34,
   "metadata": {
    "tags": [
     "challengify"
    ]
   },
   "outputs": [
    {
     "data": {
      "image/png": "[encoded data removed]",
      "text/plain": [
       "<Figure size 640x480 with 1 Axes>"
      ]
     },
     "metadata": {},
     "output_type": "display_data"
    }
   ],
   "source": [
    "n = 100  # sample size\n",
    "\n",
    "mu_expected = 3\n",
    "sigma_expected = 1.38 / math.sqrt(n)\n",
    "\n",
    "# Values for x-axis\n",
    "x = np.linspace(mu_expected - 4*sigma_expected, mu_expected + 4*sigma_expected, 1000)\n",
    "\n",
    "# PDF values\n",
    "pdf_values = norm.pdf(x, mu_expected, sigma_expected)\n",
    "\n",
    "# Plotting\n",
    "plt.plot(x, pdf_values, label='Distribution of Sample Means')\n",
    "plt.axvline(3.5, color='red', linestyle='--', label='Average Tip of $3.50')\n",
    "plt.title(\"Distribution of Sample Means\")\n",
    "plt.xlabel(\"Average Tip ($)\")\n",
    "plt.ylabel(\"Density\")\n",
    "plt.legend()\n",
    "plt.show()"
   ]
  },
  {
   "cell_type": "markdown",
   "metadata": {},
   "source": [
    "👉 For this restaurant, we clearly see that 350 euros of cumulated tips over 100 meals (average tip of 3.50 euros) seems to be is virtually impossible (this probability of this event would be close to zero).\n",
    "\n",
    "🍔 It is probably a cheap restaurant serving burgers and fries until 4 AM...\n",
    "\n",
    "We are almost at the end of the challenge!\n",
    "\n",
    "🔢 Let's denote $ \\bar{X} $ the average tip over 100 meals \n",
    "\n",
    "* ❓ Compute numerically $ \\mathbb{P} ( \\bar{X} > 3.50 ) $ and store it in `proba_350` variable ❓\n",
    "* 📚 You will need the **`cumulative distribution function (cdf)`** from [`scipy.stats.norm`](https://docs.scipy.org/doc/scipy/reference/generated/scipy.stats.norm.html)"
   ]
  },
  {
   "cell_type": "code",
   "execution_count": 35,
   "metadata": {
    "tags": [
     "challengify"
    ]
   },
   "outputs": [
    {
     "name": "stdout",
     "output_type": "stream",
     "text": [
      "Probability that average tip over 100 meals is greater than $3.50: 0.000145\n"
     ]
    }
   ],
   "source": [
    "proba_350 = 1 - norm.cdf(3.5, mu_expected, sigma_expected)\n",
    "print(f\"Probability that average tip over 100 meals is greater than $3.50: {proba_350:.6f}\")"
   ]
  },
  {
   "cell_type": "code",
   "execution_count": 43,
   "metadata": {},
   "outputs": [],
   "source": [
    "mu = tips_df['tip'].mean()\n",
    "sigma = tips_df['tip'].std()\n",
    "\n",
    "n = 100  # sample size\n",
    "\n",
    "# Calculate expected mean\n",
    "mu_expected = mu\n",
    "\n",
    "# Calculate expected standard deviation for the sample mean\n",
    "sigma_expected = sigma / math.sqrt(n)\n"
   ]
  },
  {
   "cell_type": "markdown",
   "metadata": {},
   "source": [
    "❗️ If we had observed such an amount, we could have deduced with a 99.99% confidence level that the 100 meals selected were ***not randomly sampled*** from the population of meals."
   ]
  },
  {
   "cell_type": "markdown",
   "metadata": {},
   "source": [
    "🧪 **Test your code**"
   ]
  },
  {
   "cell_type": "code",
   "execution_count": 44,
   "metadata": {},
   "outputs": [
    {
     "name": "stdout",
     "output_type": "stream",
     "text": [
      "\n",
      "\u001b[1m============================= test session starts ==============================\u001b[0m\n",
      "platform darwin -- Python 3.10.6, pytest-7.1.3, pluggy-1.0.0 -- /Users/francoisgirard/.pyenv/versions/lewagon/bin/python3\n",
      "cachedir: .pytest_cache\n",
      "rootdir: /Users/francoisgirard/code/francoisgirard51/03-Maths/02-Statistics-Probabilities/data-central-limit-theorem/tests\n",
      "plugins: asyncio-0.19.0, anyio-3.6.2\n",
      "asyncio: mode=strict\n",
      "\u001b[1mcollecting ... \u001b[0mcollected 4 items\n",
      "\n",
      "test_probability.py::TestProbability::test_mu_expected_is_mu \u001b[32mPASSED\u001b[0m\u001b[32m      [ 25%]\u001b[0m\n",
      "test_probability.py::TestProbability::test_probability_is_valid \u001b[32mPASSED\u001b[0m\u001b[32m   [ 50%]\u001b[0m\n",
      "test_probability.py::TestProbability::test_probability_is_very_low \u001b[32mPASSED\u001b[0m\u001b[32m [ 75%]\u001b[0m\n",
      "test_probability.py::TestProbability::test_sigma_expected_value \u001b[32mPASSED\u001b[0m\u001b[32m   [100%]\u001b[0m\n",
      "\n",
      "\u001b[32m============================== \u001b[32m\u001b[1m4 passed\u001b[0m\u001b[32m in 0.16s\u001b[0m\u001b[32m ===============================\u001b[0m\n",
      "\n",
      "\n",
      "💯 You can commit your code:\n",
      "\n",
      "\u001b[1;32mgit\u001b[39m add tests/probability.pickle\n",
      "\n",
      "\u001b[32mgit\u001b[39m commit -m \u001b[33m'Completed probability step'\u001b[39m\n",
      "\n",
      "\u001b[32mgit\u001b[39m push origin master\n",
      "\n"
     ]
    }
   ],
   "source": [
    "from nbresult import ChallengeResult\n",
    "\n",
    "result = ChallengeResult('probability',\n",
    "    n=100,\n",
    "    mu_expected=mu_expected,\n",
    "    mu=tips_mu,\n",
    "    sigma_expected=sigma_expected,\n",
    "    sigma=tips_sigma,\n",
    "    proba=proba_350\n",
    ")\n",
    "result.write()\n",
    "print(result.check())"
   ]
  },
  {
   "cell_type": "markdown",
   "metadata": {},
   "source": [
    "## ⭐️  5) The `z-score`"
   ]
  },
  {
   "cell_type": "markdown",
   "metadata": {},
   "source": [
    "<u>**Alternative computation using z-score**</u>\n",
    "\n",
    "🤔 Imagine you didn't have access to the `SciPy` library (or even to a computer) to compute the probability density function of a custom-made Gaussian distribution numerically. Which workaround could we use to this end?  \n",
    "\n",
    "💡 Instead of computing a Gaussian distribution with specific mean and sigma, a much more elegant way is to rephrase our problem to use the **`Standard Normal distribution`** $\\mathcal N(0,1)$, from which we could read usual values in a **`Standard Statistical table`** 👇\n",
    "\n",
    "$$ X \\sim \\mathcal N(\\mu,\\sigma) \\leftrightarrow Y =  \\frac{X - \\mu}{\\sigma} \\sim \\mathcal N(0,1) $$"
   ]
  },
  {
   "cell_type": "markdown",
   "metadata": {},
   "source": [
    "<img src='https://wagon-public-datasets.s3.amazonaws.com/data-science-images/math/z-table.png'>"
   ]
  },
  {
   "cell_type": "markdown",
   "metadata": {},
   "source": [
    "❓First, compute the [z-score](https://en.wikipedia.org/wiki/Standard_score) of your observation, and store it into a variable `z`❓\n",
    "\n",
    "As a reminder: \n",
    "* sample size $ n = 100$\n",
    "* mean $ = 3.5$ €\n",
    "\n",
    "> The **`z-score`** of a measured observation $x$ is simply the value of the observation, **measured by the number of standard deviations above or below the mean** of the underlying distribution from which the observation is derived.\n",
    "\n",
    "$$z={x-\\mu  \\over \\sigma }$$\n",
    "\n",
    "<details>\n",
    "    <summary>💡 Hint</summary>\n",
    "In our case, the value we observe is \"3.5€\", and the underlying distribution from which this observation was made is the means of samples (of size 100), which is Gaussian/normal with a mean $\\mu$ and a std $\\sigma \\over \\sqrt{100}$ according to the CLT.\n",
    "\n",
    "</details>"
   ]
  },
  {
   "cell_type": "code",
   "execution_count": 46,
   "metadata": {},
   "outputs": [],
   "source": [
    "z = (x - mu_expected) / sigma_expected"
   ]
  },
  {
   "cell_type": "markdown",
   "metadata": {},
   "source": [
    "❓ Use the standard table above to find the probability we are looking for."
   ]
  },
  {
   "cell_type": "markdown",
   "metadata": {
    "tags": [
     "challengify"
    ]
   },
   "source": [
    "> YOUR ANSWER HERE"
   ]
  },
  {
   "cell_type": "markdown",
   "metadata": {},
   "source": [
    "❓ Double-check this probability with with `scipy.stats.norm` as done previously. Store it into a `proba_z` variable."
   ]
  },
  {
   "cell_type": "code",
   "execution_count": 49,
   "metadata": {},
   "outputs": [
    {
     "data": {
      "text/plain": [
       "(array([-3.97704178e+00, -3.96905483e+00, -3.96106788e+00, -3.95308093e+00,\n",
       "        -3.94509397e+00, -3.93710702e+00, -3.92912007e+00, -3.92113312e+00,\n",
       "        -3.91314617e+00, -3.90515922e+00, -3.89717226e+00, -3.88918531e+00,\n",
       "        -3.88119836e+00, -3.87321141e+00, -3.86522446e+00, -3.85723751e+00,\n",
       "        -3.84925056e+00, -3.84126360e+00, -3.83327665e+00, -3.82528970e+00,\n",
       "        -3.81730275e+00, -3.80931580e+00, -3.80132885e+00, -3.79334190e+00,\n",
       "        -3.78535494e+00, -3.77736799e+00, -3.76938104e+00, -3.76139409e+00,\n",
       "        -3.75340714e+00, -3.74542019e+00, -3.73743324e+00, -3.72944628e+00,\n",
       "        -3.72145933e+00, -3.71347238e+00, -3.70548543e+00, -3.69749848e+00,\n",
       "        -3.68951153e+00, -3.68152458e+00, -3.67353762e+00, -3.66555067e+00,\n",
       "        -3.65756372e+00, -3.64957677e+00, -3.64158982e+00, -3.63360287e+00,\n",
       "        -3.62561592e+00, -3.61762896e+00, -3.60964201e+00, -3.60165506e+00,\n",
       "        -3.59366811e+00, -3.58568116e+00, -3.57769421e+00, -3.56970726e+00,\n",
       "        -3.56172030e+00, -3.55373335e+00, -3.54574640e+00, -3.53775945e+00,\n",
       "        -3.52977250e+00, -3.52178555e+00, -3.51379859e+00, -3.50581164e+00,\n",
       "        -3.49782469e+00, -3.48983774e+00, -3.48185079e+00, -3.47386384e+00,\n",
       "        -3.46587689e+00, -3.45788993e+00, -3.44990298e+00, -3.44191603e+00,\n",
       "        -3.43392908e+00, -3.42594213e+00, -3.41795518e+00, -3.40996823e+00,\n",
       "        -3.40198127e+00, -3.39399432e+00, -3.38600737e+00, -3.37802042e+00,\n",
       "        -3.37003347e+00, -3.36204652e+00, -3.35405957e+00, -3.34607261e+00,\n",
       "        -3.33808566e+00, -3.33009871e+00, -3.32211176e+00, -3.31412481e+00,\n",
       "        -3.30613786e+00, -3.29815091e+00, -3.29016395e+00, -3.28217700e+00,\n",
       "        -3.27419005e+00, -3.26620310e+00, -3.25821615e+00, -3.25022920e+00,\n",
       "        -3.24224225e+00, -3.23425529e+00, -3.22626834e+00, -3.21828139e+00,\n",
       "        -3.21029444e+00, -3.20230749e+00, -3.19432054e+00, -3.18633359e+00,\n",
       "        -3.17834663e+00, -3.17035968e+00, -3.16237273e+00, -3.15438578e+00,\n",
       "        -3.14639883e+00, -3.13841188e+00, -3.13042492e+00, -3.12243797e+00,\n",
       "        -3.11445102e+00, -3.10646407e+00, -3.09847712e+00, -3.09049017e+00,\n",
       "        -3.08250322e+00, -3.07451626e+00, -3.06652931e+00, -3.05854236e+00,\n",
       "        -3.05055541e+00, -3.04256846e+00, -3.03458151e+00, -3.02659456e+00,\n",
       "        -3.01860760e+00, -3.01062065e+00, -3.00263370e+00, -2.99464675e+00,\n",
       "        -2.98665980e+00, -2.97867285e+00, -2.97068590e+00, -2.96269894e+00,\n",
       "        -2.95471199e+00, -2.94672504e+00, -2.93873809e+00, -2.93075114e+00,\n",
       "        -2.92276419e+00, -2.91477724e+00, -2.90679028e+00, -2.89880333e+00,\n",
       "        -2.89081638e+00, -2.88282943e+00, -2.87484248e+00, -2.86685553e+00,\n",
       "        -2.85886858e+00, -2.85088162e+00, -2.84289467e+00, -2.83490772e+00,\n",
       "        -2.82692077e+00, -2.81893382e+00, -2.81094687e+00, -2.80295992e+00,\n",
       "        -2.79497296e+00, -2.78698601e+00, -2.77899906e+00, -2.77101211e+00,\n",
       "        -2.76302516e+00, -2.75503821e+00, -2.74705125e+00, -2.73906430e+00,\n",
       "        -2.73107735e+00, -2.72309040e+00, -2.71510345e+00, -2.70711650e+00,\n",
       "        -2.69912955e+00, -2.69114259e+00, -2.68315564e+00, -2.67516869e+00,\n",
       "        -2.66718174e+00, -2.65919479e+00, -2.65120784e+00, -2.64322089e+00,\n",
       "        -2.63523393e+00, -2.62724698e+00, -2.61926003e+00, -2.61127308e+00,\n",
       "        -2.60328613e+00, -2.59529918e+00, -2.58731223e+00, -2.57932527e+00,\n",
       "        -2.57133832e+00, -2.56335137e+00, -2.55536442e+00, -2.54737747e+00,\n",
       "        -2.53939052e+00, -2.53140357e+00, -2.52341661e+00, -2.51542966e+00,\n",
       "        -2.50744271e+00, -2.49945576e+00, -2.49146881e+00, -2.48348186e+00,\n",
       "        -2.47549491e+00, -2.46750795e+00, -2.45952100e+00, -2.45153405e+00,\n",
       "        -2.44354710e+00, -2.43556015e+00, -2.42757320e+00, -2.41958625e+00,\n",
       "        -2.41159929e+00, -2.40361234e+00, -2.39562539e+00, -2.38763844e+00,\n",
       "        -2.37965149e+00, -2.37166454e+00, -2.36367758e+00, -2.35569063e+00,\n",
       "        -2.34770368e+00, -2.33971673e+00, -2.33172978e+00, -2.32374283e+00,\n",
       "        -2.31575588e+00, -2.30776892e+00, -2.29978197e+00, -2.29179502e+00,\n",
       "        -2.28380807e+00, -2.27582112e+00, -2.26783417e+00, -2.25984722e+00,\n",
       "        -2.25186026e+00, -2.24387331e+00, -2.23588636e+00, -2.22789941e+00,\n",
       "        -2.21991246e+00, -2.21192551e+00, -2.20393856e+00, -2.19595160e+00,\n",
       "        -2.18796465e+00, -2.17997770e+00, -2.17199075e+00, -2.16400380e+00,\n",
       "        -2.15601685e+00, -2.14802990e+00, -2.14004294e+00, -2.13205599e+00,\n",
       "        -2.12406904e+00, -2.11608209e+00, -2.10809514e+00, -2.10010819e+00,\n",
       "        -2.09212124e+00, -2.08413428e+00, -2.07614733e+00, -2.06816038e+00,\n",
       "        -2.06017343e+00, -2.05218648e+00, -2.04419953e+00, -2.03621258e+00,\n",
       "        -2.02822562e+00, -2.02023867e+00, -2.01225172e+00, -2.00426477e+00,\n",
       "        -1.99627782e+00, -1.98829087e+00, -1.98030391e+00, -1.97231696e+00,\n",
       "        -1.96433001e+00, -1.95634306e+00, -1.94835611e+00, -1.94036916e+00,\n",
       "        -1.93238221e+00, -1.92439525e+00, -1.91640830e+00, -1.90842135e+00,\n",
       "        -1.90043440e+00, -1.89244745e+00, -1.88446050e+00, -1.87647355e+00,\n",
       "        -1.86848659e+00, -1.86049964e+00, -1.85251269e+00, -1.84452574e+00,\n",
       "        -1.83653879e+00, -1.82855184e+00, -1.82056489e+00, -1.81257793e+00,\n",
       "        -1.80459098e+00, -1.79660403e+00, -1.78861708e+00, -1.78063013e+00,\n",
       "        -1.77264318e+00, -1.76465623e+00, -1.75666927e+00, -1.74868232e+00,\n",
       "        -1.74069537e+00, -1.73270842e+00, -1.72472147e+00, -1.71673452e+00,\n",
       "        -1.70874757e+00, -1.70076061e+00, -1.69277366e+00, -1.68478671e+00,\n",
       "        -1.67679976e+00, -1.66881281e+00, -1.66082586e+00, -1.65283891e+00,\n",
       "        -1.64485195e+00, -1.63686500e+00, -1.62887805e+00, -1.62089110e+00,\n",
       "        -1.61290415e+00, -1.60491720e+00, -1.59693024e+00, -1.58894329e+00,\n",
       "        -1.58095634e+00, -1.57296939e+00, -1.56498244e+00, -1.55699549e+00,\n",
       "        -1.54900854e+00, -1.54102158e+00, -1.53303463e+00, -1.52504768e+00,\n",
       "        -1.51706073e+00, -1.50907378e+00, -1.50108683e+00, -1.49309988e+00,\n",
       "        -1.48511292e+00, -1.47712597e+00, -1.46913902e+00, -1.46115207e+00,\n",
       "        -1.45316512e+00, -1.44517817e+00, -1.43719122e+00, -1.42920426e+00,\n",
       "        -1.42121731e+00, -1.41323036e+00, -1.40524341e+00, -1.39725646e+00,\n",
       "        -1.38926951e+00, -1.38128256e+00, -1.37329560e+00, -1.36530865e+00,\n",
       "        -1.35732170e+00, -1.34933475e+00, -1.34134780e+00, -1.33336085e+00,\n",
       "        -1.32537390e+00, -1.31738694e+00, -1.30939999e+00, -1.30141304e+00,\n",
       "        -1.29342609e+00, -1.28543914e+00, -1.27745219e+00, -1.26946524e+00,\n",
       "        -1.26147828e+00, -1.25349133e+00, -1.24550438e+00, -1.23751743e+00,\n",
       "        -1.22953048e+00, -1.22154353e+00, -1.21355657e+00, -1.20556962e+00,\n",
       "        -1.19758267e+00, -1.18959572e+00, -1.18160877e+00, -1.17362182e+00,\n",
       "        -1.16563487e+00, -1.15764791e+00, -1.14966096e+00, -1.14167401e+00,\n",
       "        -1.13368706e+00, -1.12570011e+00, -1.11771316e+00, -1.10972621e+00,\n",
       "        -1.10173925e+00, -1.09375230e+00, -1.08576535e+00, -1.07777840e+00,\n",
       "        -1.06979145e+00, -1.06180450e+00, -1.05381755e+00, -1.04583059e+00,\n",
       "        -1.03784364e+00, -1.02985669e+00, -1.02186974e+00, -1.01388279e+00,\n",
       "        -1.00589584e+00, -9.97908886e-01, -9.89921934e-01, -9.81934983e-01,\n",
       "        -9.73948031e-01, -9.65961080e-01, -9.57974128e-01, -9.49987177e-01,\n",
       "        -9.42000225e-01, -9.34013274e-01, -9.26026322e-01, -9.18039371e-01,\n",
       "        -9.10052420e-01, -9.02065468e-01, -8.94078517e-01, -8.86091565e-01,\n",
       "        -8.78104614e-01, -8.70117662e-01, -8.62130711e-01, -8.54143759e-01,\n",
       "        -8.46156808e-01, -8.38169856e-01, -8.30182905e-01, -8.22195953e-01,\n",
       "        -8.14209002e-01, -8.06222051e-01, -7.98235099e-01, -7.90248148e-01,\n",
       "        -7.82261196e-01, -7.74274245e-01, -7.66287293e-01, -7.58300342e-01,\n",
       "        -7.50313390e-01, -7.42326439e-01, -7.34339487e-01, -7.26352536e-01,\n",
       "        -7.18365585e-01, -7.10378633e-01, -7.02391682e-01, -6.94404730e-01,\n",
       "        -6.86417779e-01, -6.78430827e-01, -6.70443876e-01, -6.62456924e-01,\n",
       "        -6.54469973e-01, -6.46483021e-01, -6.38496070e-01, -6.30509118e-01,\n",
       "        -6.22522167e-01, -6.14535216e-01, -6.06548264e-01, -5.98561313e-01,\n",
       "        -5.90574361e-01, -5.82587410e-01, -5.74600458e-01, -5.66613507e-01,\n",
       "        -5.58626555e-01, -5.50639604e-01, -5.42652652e-01, -5.34665701e-01,\n",
       "        -5.26678750e-01, -5.18691798e-01, -5.10704847e-01, -5.02717895e-01,\n",
       "        -4.94730944e-01, -4.86743992e-01, -4.78757041e-01, -4.70770089e-01,\n",
       "        -4.62783138e-01, -4.54796186e-01, -4.46809235e-01, -4.38822283e-01,\n",
       "        -4.30835332e-01, -4.22848381e-01, -4.14861429e-01, -4.06874478e-01,\n",
       "        -3.98887526e-01, -3.90900575e-01, -3.82913623e-01, -3.74926672e-01,\n",
       "        -3.66939720e-01, -3.58952769e-01, -3.50965817e-01, -3.42978866e-01,\n",
       "        -3.34991915e-01, -3.27004963e-01, -3.19018012e-01, -3.11031060e-01,\n",
       "        -3.03044109e-01, -2.95057157e-01, -2.87070206e-01, -2.79083254e-01,\n",
       "        -2.71096303e-01, -2.63109351e-01, -2.55122400e-01, -2.47135449e-01,\n",
       "        -2.39148497e-01, -2.31161546e-01, -2.23174594e-01, -2.15187643e-01,\n",
       "        -2.07200691e-01, -1.99213740e-01, -1.91226788e-01, -1.83239837e-01,\n",
       "        -1.75252885e-01, -1.67265934e-01, -1.59278982e-01, -1.51292031e-01,\n",
       "        -1.43305080e-01, -1.35318128e-01, -1.27331177e-01, -1.19344225e-01,\n",
       "        -1.11357274e-01, -1.03370322e-01, -9.53833708e-02, -8.73964193e-02,\n",
       "        -7.94094679e-02, -7.14225164e-02, -6.34355650e-02, -5.54486135e-02,\n",
       "        -4.74616621e-02, -3.94747106e-02, -3.14877591e-02, -2.35008077e-02,\n",
       "        -1.55138562e-02, -7.52690476e-03,  4.60046696e-04,  8.44699815e-03,\n",
       "         1.64339496e-02,  2.44209011e-02,  3.24078525e-02,  4.03948040e-02,\n",
       "         4.83817554e-02,  5.63687069e-02,  6.43556584e-02,  7.23426098e-02,\n",
       "         8.03295613e-02,  8.83165127e-02,  9.63034642e-02,  1.04290416e-01,\n",
       "         1.12277367e-01,  1.20264319e-01,  1.28251270e-01,  1.36238221e-01,\n",
       "         1.44225173e-01,  1.52212124e-01,  1.60199076e-01,  1.68186027e-01,\n",
       "         1.76172979e-01,  1.84159930e-01,  1.92146882e-01,  2.00133833e-01,\n",
       "         2.08120785e-01,  2.16107736e-01,  2.24094688e-01,  2.32081639e-01,\n",
       "         2.40068590e-01,  2.48055542e-01,  2.56042493e-01,  2.64029445e-01,\n",
       "         2.72016396e-01,  2.80003348e-01,  2.87990299e-01,  2.95977251e-01,\n",
       "         3.03964202e-01,  3.11951154e-01,  3.19938105e-01,  3.27925056e-01,\n",
       "         3.35912008e-01,  3.43898959e-01,  3.51885911e-01,  3.59872862e-01,\n",
       "         3.67859814e-01,  3.75846765e-01,  3.83833717e-01,  3.91820668e-01,\n",
       "         3.99807620e-01,  4.07794571e-01,  4.15781523e-01,  4.23768474e-01,\n",
       "         4.31755425e-01,  4.39742377e-01,  4.47729328e-01,  4.55716280e-01,\n",
       "         4.63703231e-01,  4.71690183e-01,  4.79677134e-01,  4.87664086e-01,\n",
       "         4.95651037e-01,  5.03637989e-01,  5.11624940e-01,  5.19611891e-01,\n",
       "         5.27598843e-01,  5.35585794e-01,  5.43572746e-01,  5.51559697e-01,\n",
       "         5.59546649e-01,  5.67533600e-01,  5.75520552e-01,  5.83507503e-01,\n",
       "         5.91494455e-01,  5.99481406e-01,  6.07468358e-01,  6.15455309e-01,\n",
       "         6.23442260e-01,  6.31429212e-01,  6.39416163e-01,  6.47403115e-01,\n",
       "         6.55390066e-01,  6.63377018e-01,  6.71363969e-01,  6.79350921e-01,\n",
       "         6.87337872e-01,  6.95324824e-01,  7.03311775e-01,  7.11298726e-01,\n",
       "         7.19285678e-01,  7.27272629e-01,  7.35259581e-01,  7.43246532e-01,\n",
       "         7.51233484e-01,  7.59220435e-01,  7.67207387e-01,  7.75194338e-01,\n",
       "         7.83181290e-01,  7.91168241e-01,  7.99155193e-01,  8.07142144e-01,\n",
       "         8.15129095e-01,  8.23116047e-01,  8.31102998e-01,  8.39089950e-01,\n",
       "         8.47076901e-01,  8.55063853e-01,  8.63050804e-01,  8.71037756e-01,\n",
       "         8.79024707e-01,  8.87011659e-01,  8.94998610e-01,  9.02985561e-01,\n",
       "         9.10972513e-01,  9.18959464e-01,  9.26946416e-01,  9.34933367e-01,\n",
       "         9.42920319e-01,  9.50907270e-01,  9.58894222e-01,  9.66881173e-01,\n",
       "         9.74868125e-01,  9.82855076e-01,  9.90842027e-01,  9.98828979e-01,\n",
       "         1.00681593e+00,  1.01480288e+00,  1.02278983e+00,  1.03077678e+00,\n",
       "         1.03876374e+00,  1.04675069e+00,  1.05473764e+00,  1.06272459e+00,\n",
       "         1.07071154e+00,  1.07869849e+00,  1.08668544e+00,  1.09467240e+00,\n",
       "         1.10265935e+00,  1.11064630e+00,  1.11863325e+00,  1.12662020e+00,\n",
       "         1.13460715e+00,  1.14259411e+00,  1.15058106e+00,  1.15856801e+00,\n",
       "         1.16655496e+00,  1.17454191e+00,  1.18252886e+00,  1.19051581e+00,\n",
       "         1.19850277e+00,  1.20648972e+00,  1.21447667e+00,  1.22246362e+00,\n",
       "         1.23045057e+00,  1.23843752e+00,  1.24642447e+00,  1.25441143e+00,\n",
       "         1.26239838e+00,  1.27038533e+00,  1.27837228e+00,  1.28635923e+00,\n",
       "         1.29434618e+00,  1.30233313e+00,  1.31032009e+00,  1.31830704e+00,\n",
       "         1.32629399e+00,  1.33428094e+00,  1.34226789e+00,  1.35025484e+00,\n",
       "         1.35824179e+00,  1.36622875e+00,  1.37421570e+00,  1.38220265e+00,\n",
       "         1.39018960e+00,  1.39817655e+00,  1.40616350e+00,  1.41415045e+00,\n",
       "         1.42213741e+00,  1.43012436e+00,  1.43811131e+00,  1.44609826e+00,\n",
       "         1.45408521e+00,  1.46207216e+00,  1.47005911e+00,  1.47804607e+00,\n",
       "         1.48603302e+00,  1.49401997e+00,  1.50200692e+00,  1.50999387e+00,\n",
       "         1.51798082e+00,  1.52596778e+00,  1.53395473e+00,  1.54194168e+00,\n",
       "         1.54992863e+00,  1.55791558e+00,  1.56590253e+00,  1.57388948e+00,\n",
       "         1.58187644e+00,  1.58986339e+00,  1.59785034e+00,  1.60583729e+00,\n",
       "         1.61382424e+00,  1.62181119e+00,  1.62979814e+00,  1.63778510e+00,\n",
       "         1.64577205e+00,  1.65375900e+00,  1.66174595e+00,  1.66973290e+00,\n",
       "         1.67771985e+00,  1.68570680e+00,  1.69369376e+00,  1.70168071e+00,\n",
       "         1.70966766e+00,  1.71765461e+00,  1.72564156e+00,  1.73362851e+00,\n",
       "         1.74161546e+00,  1.74960242e+00,  1.75758937e+00,  1.76557632e+00,\n",
       "         1.77356327e+00,  1.78155022e+00,  1.78953717e+00,  1.79752412e+00,\n",
       "         1.80551108e+00,  1.81349803e+00,  1.82148498e+00,  1.82947193e+00,\n",
       "         1.83745888e+00,  1.84544583e+00,  1.85343278e+00,  1.86141974e+00,\n",
       "         1.86940669e+00,  1.87739364e+00,  1.88538059e+00,  1.89336754e+00,\n",
       "         1.90135449e+00,  1.90934145e+00,  1.91732840e+00,  1.92531535e+00,\n",
       "         1.93330230e+00,  1.94128925e+00,  1.94927620e+00,  1.95726315e+00,\n",
       "         1.96525011e+00,  1.97323706e+00,  1.98122401e+00,  1.98921096e+00,\n",
       "         1.99719791e+00,  2.00518486e+00,  2.01317181e+00,  2.02115877e+00,\n",
       "         2.02914572e+00,  2.03713267e+00,  2.04511962e+00,  2.05310657e+00,\n",
       "         2.06109352e+00,  2.06908047e+00,  2.07706743e+00,  2.08505438e+00,\n",
       "         2.09304133e+00,  2.10102828e+00,  2.10901523e+00,  2.11700218e+00,\n",
       "         2.12498913e+00,  2.13297609e+00,  2.14096304e+00,  2.14894999e+00,\n",
       "         2.15693694e+00,  2.16492389e+00,  2.17291084e+00,  2.18089779e+00,\n",
       "         2.18888475e+00,  2.19687170e+00,  2.20485865e+00,  2.21284560e+00,\n",
       "         2.22083255e+00,  2.22881950e+00,  2.23680645e+00,  2.24479341e+00,\n",
       "         2.25278036e+00,  2.26076731e+00,  2.26875426e+00,  2.27674121e+00,\n",
       "         2.28472816e+00,  2.29271512e+00,  2.30070207e+00,  2.30868902e+00,\n",
       "         2.31667597e+00,  2.32466292e+00,  2.33264987e+00,  2.34063682e+00,\n",
       "         2.34862378e+00,  2.35661073e+00,  2.36459768e+00,  2.37258463e+00,\n",
       "         2.38057158e+00,  2.38855853e+00,  2.39654548e+00,  2.40453244e+00,\n",
       "         2.41251939e+00,  2.42050634e+00,  2.42849329e+00,  2.43648024e+00,\n",
       "         2.44446719e+00,  2.45245414e+00,  2.46044110e+00,  2.46842805e+00,\n",
       "         2.47641500e+00,  2.48440195e+00,  2.49238890e+00,  2.50037585e+00,\n",
       "         2.50836280e+00,  2.51634976e+00,  2.52433671e+00,  2.53232366e+00,\n",
       "         2.54031061e+00,  2.54829756e+00,  2.55628451e+00,  2.56427146e+00,\n",
       "         2.57225842e+00,  2.58024537e+00,  2.58823232e+00,  2.59621927e+00,\n",
       "         2.60420622e+00,  2.61219317e+00,  2.62018012e+00,  2.62816708e+00,\n",
       "         2.63615403e+00,  2.64414098e+00,  2.65212793e+00,  2.66011488e+00,\n",
       "         2.66810183e+00,  2.67608879e+00,  2.68407574e+00,  2.69206269e+00,\n",
       "         2.70004964e+00,  2.70803659e+00,  2.71602354e+00,  2.72401049e+00,\n",
       "         2.73199745e+00,  2.73998440e+00,  2.74797135e+00,  2.75595830e+00,\n",
       "         2.76394525e+00,  2.77193220e+00,  2.77991915e+00,  2.78790611e+00,\n",
       "         2.79589306e+00,  2.80388001e+00,  2.81186696e+00,  2.81985391e+00,\n",
       "         2.82784086e+00,  2.83582781e+00,  2.84381477e+00,  2.85180172e+00,\n",
       "         2.85978867e+00,  2.86777562e+00,  2.87576257e+00,  2.88374952e+00,\n",
       "         2.89173647e+00,  2.89972343e+00,  2.90771038e+00,  2.91569733e+00,\n",
       "         2.92368428e+00,  2.93167123e+00,  2.93965818e+00,  2.94764513e+00,\n",
       "         2.95563209e+00,  2.96361904e+00,  2.97160599e+00,  2.97959294e+00,\n",
       "         2.98757989e+00,  2.99556684e+00,  3.00355379e+00,  3.01154075e+00,\n",
       "         3.01952770e+00,  3.02751465e+00,  3.03550160e+00,  3.04348855e+00,\n",
       "         3.05147550e+00,  3.05946246e+00,  3.06744941e+00,  3.07543636e+00,\n",
       "         3.08342331e+00,  3.09141026e+00,  3.09939721e+00,  3.10738416e+00,\n",
       "         3.11537112e+00,  3.12335807e+00,  3.13134502e+00,  3.13933197e+00,\n",
       "         3.14731892e+00,  3.15530587e+00,  3.16329282e+00,  3.17127978e+00,\n",
       "         3.17926673e+00,  3.18725368e+00,  3.19524063e+00,  3.20322758e+00,\n",
       "         3.21121453e+00,  3.21920148e+00,  3.22718844e+00,  3.23517539e+00,\n",
       "         3.24316234e+00,  3.25114929e+00,  3.25913624e+00,  3.26712319e+00,\n",
       "         3.27511014e+00,  3.28309710e+00,  3.29108405e+00,  3.29907100e+00,\n",
       "         3.30705795e+00,  3.31504490e+00,  3.32303185e+00,  3.33101880e+00,\n",
       "         3.33900576e+00,  3.34699271e+00,  3.35497966e+00,  3.36296661e+00,\n",
       "         3.37095356e+00,  3.37894051e+00,  3.38692746e+00,  3.39491442e+00,\n",
       "         3.40290137e+00,  3.41088832e+00,  3.41887527e+00,  3.42686222e+00,\n",
       "         3.43484917e+00,  3.44283613e+00,  3.45082308e+00,  3.45881003e+00,\n",
       "         3.46679698e+00,  3.47478393e+00,  3.48277088e+00,  3.49075783e+00,\n",
       "         3.49874479e+00,  3.50673174e+00,  3.51471869e+00,  3.52270564e+00,\n",
       "         3.53069259e+00,  3.53867954e+00,  3.54666649e+00,  3.55465345e+00,\n",
       "         3.56264040e+00,  3.57062735e+00,  3.57861430e+00,  3.58660125e+00,\n",
       "         3.59458820e+00,  3.60257515e+00,  3.61056211e+00,  3.61854906e+00,\n",
       "         3.62653601e+00,  3.63452296e+00,  3.64250991e+00,  3.65049686e+00,\n",
       "         3.65848381e+00,  3.66647077e+00,  3.67445772e+00,  3.68244467e+00,\n",
       "         3.69043162e+00,  3.69841857e+00,  3.70640552e+00,  3.71439247e+00,\n",
       "         3.72237943e+00,  3.73036638e+00,  3.73835333e+00,  3.74634028e+00,\n",
       "         3.75432723e+00,  3.76231418e+00,  3.77030113e+00,  3.77828809e+00,\n",
       "         3.78627504e+00,  3.79426199e+00,  3.80224894e+00,  3.81023589e+00,\n",
       "         3.81822284e+00,  3.82620980e+00,  3.83419675e+00,  3.84218370e+00,\n",
       "         3.85017065e+00,  3.85815760e+00,  3.86614455e+00,  3.87413150e+00,\n",
       "         3.88211846e+00,  3.89010541e+00,  3.89809236e+00,  3.90607931e+00,\n",
       "         3.91406626e+00,  3.92205321e+00,  3.93004016e+00,  3.93802712e+00,\n",
       "         3.94601407e+00,  3.95400102e+00,  3.96198797e+00,  3.96997492e+00,\n",
       "         3.97796187e+00,  3.98594882e+00,  3.99393578e+00,  4.00192273e+00]),\n",
       " array([9.99965111e-01, 9.99963921e-01, 9.99962692e-01, 9.99961424e-01,\n",
       "        9.99960116e-01, 9.99958765e-01, 9.99957371e-01, 9.99955933e-01,\n",
       "        9.99954449e-01, 9.99952918e-01, 9.99951339e-01, 9.99949709e-01,\n",
       "        9.99948028e-01, 9.99946295e-01, 9.99944506e-01, 9.99942662e-01,\n",
       "        9.99940760e-01, 9.99938799e-01, 9.99936776e-01, 9.99934691e-01,\n",
       "        9.99932541e-01, 9.99930324e-01, 9.99928039e-01, 9.99925683e-01,\n",
       "        9.99923255e-01, 9.99920753e-01, 9.99918174e-01, 9.99915516e-01,\n",
       "        9.99912776e-01, 9.99909954e-01, 9.99907046e-01, 9.99904049e-01,\n",
       "        9.99900963e-01, 9.99897783e-01, 9.99894507e-01, 9.99891133e-01,\n",
       "        9.99887657e-01, 9.99884078e-01, 9.99880392e-01, 9.99876597e-01,\n",
       "        9.99872688e-01, 9.99868664e-01, 9.99864520e-01, 9.99860255e-01,\n",
       "        9.99855863e-01, 9.99851343e-01, 9.99846690e-01, 9.99841901e-01,\n",
       "        9.99836972e-01, 9.99831900e-01, 9.99826681e-01, 9.99821310e-01,\n",
       "        9.99815784e-01, 9.99810098e-01, 9.99804249e-01, 9.99798231e-01,\n",
       "        9.99792041e-01, 9.99785675e-01, 9.99779126e-01, 9.99772391e-01,\n",
       "        9.99765465e-01, 9.99758343e-01, 9.99751019e-01, 9.99743489e-01,\n",
       "        9.99735747e-01, 9.99727788e-01, 9.99719606e-01, 9.99711195e-01,\n",
       "        9.99702550e-01, 9.99693665e-01, 9.99684533e-01, 9.99675148e-01,\n",
       "        9.99665504e-01, 9.99655594e-01, 9.99645413e-01, 9.99634952e-01,\n",
       "        9.99624205e-01, 9.99613165e-01, 9.99601824e-01, 9.99590175e-01,\n",
       "        9.99578211e-01, 9.99565924e-01, 9.99553305e-01, 9.99540348e-01,\n",
       "        9.99527042e-01, 9.99513381e-01, 9.99499355e-01, 9.99484955e-01,\n",
       "        9.99470173e-01, 9.99455000e-01, 9.99439425e-01, 9.99423440e-01,\n",
       "        9.99407034e-01, 9.99390198e-01, 9.99372921e-01, 9.99355194e-01,\n",
       "        9.99337005e-01, 9.99318343e-01, 9.99299198e-01, 9.99279558e-01,\n",
       "        9.99259412e-01, 9.99238748e-01, 9.99217554e-01, 9.99195818e-01,\n",
       "        9.99173528e-01, 9.99150670e-01, 9.99127232e-01, 9.99103201e-01,\n",
       "        9.99078562e-01, 9.99053303e-01, 9.99027410e-01, 9.99000868e-01,\n",
       "        9.98973662e-01, 9.98945779e-01, 9.98917202e-01, 9.98887917e-01,\n",
       "        9.98857907e-01, 9.98827158e-01, 9.98795652e-01, 9.98763373e-01,\n",
       "        9.98730304e-01, 9.98696428e-01, 9.98661728e-01, 9.98626186e-01,\n",
       "        9.98589783e-01, 9.98552502e-01, 9.98514322e-01, 9.98475227e-01,\n",
       "        9.98435195e-01, 9.98394207e-01, 9.98352243e-01, 9.98309282e-01,\n",
       "        9.98265304e-01, 9.98220287e-01, 9.98174210e-01, 9.98127051e-01,\n",
       "        9.98078787e-01, 9.98029396e-01, 9.97978854e-01, 9.97927139e-01,\n",
       "        9.97874226e-01, 9.97820090e-01, 9.97764708e-01, 9.97708054e-01,\n",
       "        9.97650102e-01, 9.97590827e-01, 9.97530203e-01, 9.97468202e-01,\n",
       "        9.97404797e-01, 9.97339961e-01, 9.97273666e-01, 9.97205883e-01,\n",
       "        9.97136582e-01, 9.97065736e-01, 9.96993313e-01, 9.96919284e-01,\n",
       "        9.96843617e-01, 9.96766282e-01, 9.96687246e-01, 9.96606478e-01,\n",
       "        9.96523945e-01, 9.96439612e-01, 9.96353448e-01, 9.96265417e-01,\n",
       "        9.96175485e-01, 9.96083617e-01, 9.95989777e-01, 9.95893928e-01,\n",
       "        9.95796034e-01, 9.95696058e-01, 9.95593963e-01, 9.95489708e-01,\n",
       "        9.95383257e-01, 9.95274569e-01, 9.95163605e-01, 9.95050324e-01,\n",
       "        9.94934685e-01, 9.94816646e-01, 9.94696166e-01, 9.94573202e-01,\n",
       "        9.94447710e-01, 9.94319647e-01, 9.94188969e-01, 9.94055630e-01,\n",
       "        9.93919585e-01, 9.93780789e-01, 9.93639193e-01, 9.93494752e-01,\n",
       "        9.93347417e-01, 9.93197140e-01, 9.93043872e-01, 9.92887564e-01,\n",
       "        9.92728164e-01, 9.92565624e-01, 9.92399890e-01, 9.92230912e-01,\n",
       "        9.92058637e-01, 9.91883011e-01, 9.91703981e-01, 9.91521493e-01,\n",
       "        9.91335491e-01, 9.91145920e-01, 9.90952724e-01, 9.90755846e-01,\n",
       "        9.90555229e-01, 9.90350815e-01, 9.90142544e-01, 9.89930359e-01,\n",
       "        9.89714199e-01, 9.89494004e-01, 9.89269712e-01, 9.89041263e-01,\n",
       "        9.88808593e-01, 9.88571641e-01, 9.88330342e-01, 9.88084633e-01,\n",
       "        9.87834448e-01, 9.87579723e-01, 9.87320392e-01, 9.87056388e-01,\n",
       "        9.86787645e-01, 9.86514094e-01, 9.86235667e-01, 9.85952296e-01,\n",
       "        9.85663911e-01, 9.85370443e-01, 9.85071820e-01, 9.84767971e-01,\n",
       "        9.84458825e-01, 9.84144310e-01, 9.83824352e-01, 9.83498878e-01,\n",
       "        9.83167815e-01, 9.82831087e-01, 9.82488620e-01, 9.82140337e-01,\n",
       "        9.81786164e-01, 9.81426023e-01, 9.81059837e-01, 9.80687528e-01,\n",
       "        9.80309018e-01, 9.79924228e-01, 9.79533080e-01, 9.79135493e-01,\n",
       "        9.78731387e-01, 9.78320682e-01, 9.77903296e-01, 9.77479147e-01,\n",
       "        9.77048154e-01, 9.76610235e-01, 9.76165305e-01, 9.75713283e-01,\n",
       "        9.75254083e-01, 9.74787623e-01, 9.74313816e-01, 9.73832579e-01,\n",
       "        9.73343826e-01, 9.72847471e-01, 9.72343428e-01, 9.71831610e-01,\n",
       "        9.71311932e-01, 9.70784305e-01, 9.70248643e-01, 9.69704858e-01,\n",
       "        9.69152862e-01, 9.68592566e-01, 9.68023882e-01, 9.67446721e-01,\n",
       "        9.66860995e-01, 9.66266613e-01, 9.65663488e-01, 9.65051528e-01,\n",
       "        9.64430645e-01, 9.63800748e-01, 9.63161747e-01, 9.62513553e-01,\n",
       "        9.61856074e-01, 9.61189220e-01, 9.60512901e-01, 9.59827026e-01,\n",
       "        9.59131505e-01, 9.58426246e-01, 9.57711160e-01, 9.56986155e-01,\n",
       "        9.56251140e-01, 9.55506026e-01, 9.54750721e-01, 9.53985135e-01,\n",
       "        9.53209178e-01, 9.52422758e-01, 9.51625787e-01, 9.50818173e-01,\n",
       "        9.49999827e-01, 9.49170660e-01, 9.48330581e-01, 9.47479502e-01,\n",
       "        9.46617333e-01, 9.45743986e-01, 9.44859371e-01, 9.43963402e-01,\n",
       "        9.43055990e-01, 9.42137047e-01, 9.41206487e-01, 9.40264222e-01,\n",
       "        9.39310166e-01, 9.38344234e-01, 9.37366339e-01, 9.36376397e-01,\n",
       "        9.35374324e-01, 9.34360035e-01, 9.33333447e-01, 9.32294477e-01,\n",
       "        9.31243044e-01, 9.30179064e-01, 9.29102457e-01, 9.28013143e-01,\n",
       "        9.26911043e-01, 9.25796076e-01, 9.24668166e-01, 9.23527234e-01,\n",
       "        9.22373203e-01, 9.21205999e-01, 9.20025545e-01, 9.18831768e-01,\n",
       "        9.17624594e-01, 9.16403950e-01, 9.15169766e-01, 9.13921970e-01,\n",
       "        9.12660493e-01, 9.11385266e-01, 9.10096221e-01, 9.08793293e-01,\n",
       "        9.07476415e-01, 9.06145522e-01, 9.04800553e-01, 9.03441444e-01,\n",
       "        9.02068134e-01, 9.00680564e-01, 8.99278675e-01, 8.97862409e-01,\n",
       "        8.96431710e-01, 8.94986524e-01, 8.93526797e-01, 8.92052476e-01,\n",
       "        8.90563511e-01, 8.89059852e-01, 8.87541451e-01, 8.86008261e-01,\n",
       "        8.84460237e-01, 8.82897336e-01, 8.81319514e-01, 8.79726731e-01,\n",
       "        8.78118948e-01, 8.76496126e-01, 8.74858231e-01, 8.73205226e-01,\n",
       "        8.71537080e-01, 8.69853761e-01, 8.68155239e-01, 8.66441487e-01,\n",
       "        8.64712477e-01, 8.62968186e-01, 8.61208590e-01, 8.59433669e-01,\n",
       "        8.57643404e-01, 8.55837776e-01, 8.54016771e-01, 8.52180373e-01,\n",
       "        8.50328573e-01, 8.48461358e-01, 8.46578722e-01, 8.44680657e-01,\n",
       "        8.42767160e-01, 8.40838229e-01, 8.38893861e-01, 8.36934060e-01,\n",
       "        8.34958828e-01, 8.32968172e-01, 8.30962098e-01, 8.28940616e-01,\n",
       "        8.26903738e-01, 8.24851477e-01, 8.22783850e-01, 8.20700873e-01,\n",
       "        8.18602567e-01, 8.16488954e-01, 8.14360059e-01, 8.12215906e-01,\n",
       "        8.10056525e-01, 8.07881947e-01, 8.05692203e-01, 8.03487330e-01,\n",
       "        8.01267363e-01, 7.99032343e-01, 7.96782310e-01, 7.94517309e-01,\n",
       "        7.92237385e-01, 7.89942587e-01, 7.87632964e-01, 7.85308569e-01,\n",
       "        7.82969457e-01, 7.80615685e-01, 7.78247311e-01, 7.75864399e-01,\n",
       "        7.73467010e-01, 7.71055212e-01, 7.68629071e-01, 7.66188660e-01,\n",
       "        7.63734049e-01, 7.61265315e-01, 7.58782534e-01, 7.56285786e-01,\n",
       "        7.53775152e-01, 7.51250716e-01, 7.48712564e-01, 7.46160784e-01,\n",
       "        7.43595467e-01, 7.41016705e-01, 7.38424594e-01, 7.35819231e-01,\n",
       "        7.33200714e-01, 7.30569145e-01, 7.27924628e-01, 7.25267269e-01,\n",
       "        7.22597176e-01, 7.19914459e-01, 7.17219229e-01, 7.14511602e-01,\n",
       "        7.11791694e-01, 7.09059623e-01, 7.06315510e-01, 7.03559478e-01,\n",
       "        7.00791652e-01, 6.98012159e-01, 6.95221127e-01, 6.92418687e-01,\n",
       "        6.89604972e-01, 6.86780117e-01, 6.83944259e-01, 6.81097537e-01,\n",
       "        6.78240091e-01, 6.75372063e-01, 6.72493599e-01, 6.69604844e-01,\n",
       "        6.66705946e-01, 6.63797057e-01, 6.60878326e-01, 6.57949909e-01,\n",
       "        6.55011960e-01, 6.52064635e-01, 6.49108095e-01, 6.46142499e-01,\n",
       "        6.43168009e-01, 6.40184789e-01, 6.37193004e-01, 6.34192820e-01,\n",
       "        6.31184407e-01, 6.28167934e-01, 6.25143573e-01, 6.22111495e-01,\n",
       "        6.19071876e-01, 6.16024891e-01, 6.12970718e-01, 6.09909533e-01,\n",
       "        6.06841517e-01, 6.03766852e-01, 6.00685718e-01, 5.97598300e-01,\n",
       "        5.94504781e-01, 5.91405348e-01, 5.88300188e-01, 5.85189488e-01,\n",
       "        5.82073436e-01, 5.78952224e-01, 5.75826042e-01, 5.72695081e-01,\n",
       "        5.69559535e-01, 5.66419596e-01, 5.63275461e-01, 5.60127322e-01,\n",
       "        5.56975378e-01, 5.53819824e-01, 5.50660857e-01, 5.47498676e-01,\n",
       "        5.44333480e-01, 5.41165467e-01, 5.37994838e-01, 5.34821792e-01,\n",
       "        5.31646531e-01, 5.28469255e-01, 5.25290166e-01, 5.22109466e-01,\n",
       "        5.18927357e-01, 5.15744042e-01, 5.12559723e-01, 5.09374603e-01,\n",
       "        5.06188885e-01, 5.03002772e-01, 4.99816468e-01, 4.96630175e-01,\n",
       "        4.93444098e-01, 4.90258438e-01, 4.87073400e-01, 4.83889186e-01,\n",
       "        4.80706000e-01, 4.77524043e-01, 4.74343518e-01, 4.71164628e-01,\n",
       "        4.67987574e-01, 4.64812557e-01, 4.61639780e-01, 4.58469442e-01,\n",
       "        4.55301743e-01, 4.52136884e-01, 4.48975064e-01, 4.45816480e-01,\n",
       "        4.42661332e-01, 4.39509816e-01, 4.36362129e-01, 4.33218466e-01,\n",
       "        4.30079024e-01, 4.26943996e-01, 4.23813576e-01, 4.20687957e-01,\n",
       "        4.17567329e-01, 4.14451885e-01, 4.11341813e-01, 4.08237303e-01,\n",
       "        4.05138542e-01, 4.02045717e-01, 3.98959013e-01, 3.95878615e-01,\n",
       "        3.92804706e-01, 3.89737468e-01, 3.86677082e-01, 3.83623727e-01,\n",
       "        3.80577582e-01, 3.77538823e-01, 3.74507626e-01, 3.71484164e-01,\n",
       "        3.68468611e-01, 3.65461137e-01, 3.62461913e-01, 3.59471106e-01,\n",
       "        3.56488883e-01, 3.53515409e-01, 3.50550848e-01, 3.47595361e-01,\n",
       "        3.44649109e-01, 3.41712250e-01, 3.38784940e-01, 3.35867336e-01,\n",
       "        3.32959590e-01, 3.30061853e-01, 3.27174276e-01, 3.24297007e-01,\n",
       "        3.21430191e-01, 3.18573973e-01, 3.15728495e-01, 3.12893897e-01,\n",
       "        3.10070319e-01, 3.07257896e-01, 3.04456764e-01, 3.01667054e-01,\n",
       "        2.98888898e-01, 2.96122424e-01, 2.93367759e-01, 2.90625028e-01,\n",
       "        2.87894352e-01, 2.85175853e-01, 2.82469648e-01, 2.79775854e-01,\n",
       "        2.77094585e-01, 2.74425953e-01, 2.71770068e-01, 2.69127037e-01,\n",
       "        2.66496967e-01, 2.63879960e-01, 2.61276118e-01, 2.58685540e-01,\n",
       "        2.56108323e-01, 2.53544561e-01, 2.50994346e-01, 2.48457770e-01,\n",
       "        2.45934919e-01, 2.43425880e-01, 2.40930737e-01, 2.38449570e-01,\n",
       "        2.35982459e-01, 2.33529481e-01, 2.31090710e-01, 2.28666218e-01,\n",
       "        2.26256076e-01, 2.23860352e-01, 2.21479111e-01, 2.19112417e-01,\n",
       "        2.16760330e-01, 2.14422911e-01, 2.12100215e-01, 2.09792297e-01,\n",
       "        2.07499209e-01, 2.05221002e-01, 2.02957723e-01, 2.00709418e-01,\n",
       "        1.98476130e-01, 1.96257900e-01, 1.94054767e-01, 1.91866769e-01,\n",
       "        1.89693940e-01, 1.87536312e-01, 1.85393916e-01, 1.83266779e-01,\n",
       "        1.81154928e-01, 1.79058387e-01, 1.76977178e-01, 1.74911320e-01,\n",
       "        1.72860831e-01, 1.70825725e-01, 1.68806018e-01, 1.66801720e-01,\n",
       "        1.64812840e-01, 1.62839385e-01, 1.60881362e-01, 1.58938773e-01,\n",
       "        1.57011619e-01, 1.55099900e-01, 1.53203613e-01, 1.51322754e-01,\n",
       "        1.49457315e-01, 1.47607290e-01, 1.45772666e-01, 1.43953433e-01,\n",
       "        1.42149576e-01, 1.40361079e-01, 1.38587924e-01, 1.36830093e-01,\n",
       "        1.35087563e-01, 1.33360313e-01, 1.31648316e-01, 1.29951547e-01,\n",
       "        1.28269977e-01, 1.26603577e-01, 1.24952315e-01, 1.23316158e-01,\n",
       "        1.21695071e-01, 1.20089017e-01, 1.18497960e-01, 1.16921859e-01,\n",
       "        1.15360674e-01, 1.13814361e-01, 1.12282877e-01, 1.10766177e-01,\n",
       "        1.09264213e-01, 1.07776937e-01, 1.06304300e-01, 1.04846251e-01,\n",
       "        1.03402736e-01, 1.01973703e-01, 1.00559097e-01, 9.91588598e-02,\n",
       "        9.77729355e-02, 9.64012647e-02, 9.50437877e-02, 9.37004431e-02,\n",
       "        9.23711686e-02, 9.10559008e-02, 8.97545751e-02, 8.84671259e-02,\n",
       "        8.71934864e-02, 8.59335888e-02, 8.46873644e-02, 8.34547435e-02,\n",
       "        8.22356553e-02, 8.10300281e-02, 7.98377895e-02, 7.86588658e-02,\n",
       "        7.74931828e-02, 7.63406652e-02, 7.52012372e-02, 7.40748218e-02,\n",
       "        7.29613415e-02, 7.18607179e-02, 7.07728721e-02, 6.96977242e-02,\n",
       "        6.86351939e-02, 6.75852000e-02, 6.65476607e-02, 6.55224939e-02,\n",
       "        6.45096165e-02, 6.35089450e-02, 6.25203955e-02, 6.15438834e-02,\n",
       "        6.05793236e-02, 5.96266306e-02, 5.86857185e-02, 5.77565008e-02,\n",
       "        5.68388907e-02, 5.59328011e-02, 5.50381443e-02, 5.41548325e-02,\n",
       "        5.32827774e-02, 5.24218906e-02, 5.15720831e-02, 5.07332659e-02,\n",
       "        4.99053497e-02, 4.90882449e-02, 4.82818618e-02, 4.74861105e-02,\n",
       "        4.67009010e-02, 4.59261428e-02, 4.51617458e-02, 4.44076195e-02,\n",
       "        4.36636732e-02, 4.29298165e-02, 4.22059587e-02, 4.14920090e-02,\n",
       "        4.07878768e-02, 4.00934713e-02, 3.94087019e-02, 3.87334779e-02,\n",
       "        3.80677088e-02, 3.74113040e-02, 3.67641732e-02, 3.61262259e-02,\n",
       "        3.54973719e-02, 3.48775213e-02, 3.42665840e-02, 3.36644703e-02,\n",
       "        3.30710906e-02, 3.24863555e-02, 3.19101759e-02, 3.13424628e-02,\n",
       "        3.07831274e-02, 3.02320813e-02, 2.96892363e-02, 2.91545044e-02,\n",
       "        2.86277979e-02, 2.81090296e-02, 2.75981123e-02, 2.70949593e-02,\n",
       "        2.65994844e-02, 2.61116013e-02, 2.56312245e-02, 2.51582686e-02,\n",
       "        2.46926487e-02, 2.42342802e-02, 2.37830790e-02, 2.33389614e-02,\n",
       "        2.29018439e-02, 2.24716439e-02, 2.20482787e-02, 2.16316663e-02,\n",
       "        2.12217253e-02, 2.08183745e-02, 2.04215332e-02, 2.00311214e-02,\n",
       "        1.96470593e-02, 1.92692678e-02, 1.88976683e-02, 1.85321824e-02,\n",
       "        1.81727327e-02, 1.78192419e-02, 1.74716335e-02, 1.71298313e-02,\n",
       "        1.67937598e-02, 1.64633440e-02, 1.61385095e-02, 1.58191823e-02,\n",
       "        1.55052891e-02, 1.51967571e-02, 1.48935141e-02, 1.45954884e-02,\n",
       "        1.43026090e-02, 1.40148053e-02, 1.37320075e-02, 1.34541461e-02,\n",
       "        1.31811525e-02, 1.29129584e-02, 1.26494962e-02, 1.23906991e-02,\n",
       "        1.21365006e-02, 1.18868350e-02, 1.16416369e-02, 1.14008420e-02,\n",
       "        1.11643861e-02, 1.09322059e-02, 1.07042386e-02, 1.04804221e-02,\n",
       "        1.02606948e-02, 1.00449957e-02, 9.83326456e-03, 9.62544158e-03,\n",
       "        9.42146764e-03, 9.22128424e-03, 9.02483345e-03, 8.83205799e-03,\n",
       "        8.64290115e-03, 8.45730685e-03, 8.27521962e-03, 8.09658457e-03,\n",
       "        7.92134743e-03, 7.74945454e-03, 7.58085283e-03, 7.41548984e-03,\n",
       "        7.25331369e-03, 7.09427312e-03, 6.93831745e-03, 6.78539659e-03,\n",
       "        6.63546107e-03, 6.48846196e-03, 6.34435097e-03, 6.20308035e-03,\n",
       "        6.06460297e-03, 5.92887224e-03, 5.79584218e-03, 5.66546737e-03,\n",
       "        5.53770296e-03, 5.41250467e-03, 5.28982879e-03, 5.16963216e-03,\n",
       "        5.05187220e-03, 4.93650686e-03, 4.82349466e-03, 4.71279466e-03,\n",
       "        4.60436648e-03, 4.49817026e-03, 4.39416670e-03, 4.29231702e-03,\n",
       "        4.19258298e-03, 4.09492686e-03, 3.99931147e-03, 3.90570013e-03,\n",
       "        3.81405669e-03, 3.72434549e-03, 3.63653141e-03, 3.55057981e-03,\n",
       "        3.46645655e-03, 3.38412799e-03, 3.30356098e-03, 3.22472286e-03,\n",
       "        3.14758145e-03, 3.07210506e-03, 2.99826245e-03, 2.92602286e-03,\n",
       "        2.85535601e-03, 2.78623207e-03, 2.71862165e-03, 2.65249585e-03,\n",
       "        2.58782618e-03, 2.52458461e-03, 2.46274356e-03, 2.40227586e-03,\n",
       "        2.34315479e-03, 2.28535404e-03, 2.22884774e-03, 2.17361042e-03,\n",
       "        2.11961702e-03, 2.06684290e-03, 2.01526381e-03, 1.96485591e-03,\n",
       "        1.91559576e-03, 1.86746028e-03, 1.82042680e-03, 1.77447302e-03,\n",
       "        1.72957702e-03, 1.68571725e-03, 1.64287252e-03, 1.60102202e-03,\n",
       "        1.56014529e-03, 1.52022220e-03, 1.48123300e-03, 1.44315828e-03,\n",
       "        1.40597895e-03, 1.36967627e-03, 1.33423184e-03, 1.29962758e-03,\n",
       "        1.26584571e-03, 1.23286881e-03, 1.20067974e-03, 1.16926169e-03,\n",
       "        1.13859814e-03, 1.10867289e-03, 1.07947002e-03, 1.05097391e-03,\n",
       "        1.02316923e-03, 9.96040931e-04, 9.69574252e-04, 9.43754702e-04,\n",
       "        9.18568066e-04, 8.94000396e-04, 8.70038009e-04, 8.46667483e-04,\n",
       "        8.23875655e-04, 8.01649612e-04, 7.79976692e-04, 7.58844477e-04,\n",
       "        7.38240792e-04, 7.18153701e-04, 6.98571498e-04, 6.79482713e-04,\n",
       "        6.60876099e-04, 6.42740634e-04, 6.25065514e-04, 6.07840154e-04,\n",
       "        5.91054180e-04, 5.74697428e-04, 5.58759938e-04, 5.43231955e-04,\n",
       "        5.28103922e-04, 5.13366477e-04, 4.99010451e-04, 4.85026866e-04,\n",
       "        4.71406928e-04, 4.58142026e-04, 4.45223729e-04, 4.32643784e-04,\n",
       "        4.20394110e-04, 4.08466797e-04, 3.96854102e-04, 3.85548448e-04,\n",
       "        3.74542419e-04, 3.63828757e-04, 3.53400361e-04, 3.43250283e-04,\n",
       "        3.33371725e-04, 3.23758038e-04, 3.14402716e-04, 3.05299396e-04,\n",
       "        2.96441856e-04, 2.87824009e-04, 2.79439904e-04, 2.71283721e-04,\n",
       "        2.63349771e-04, 2.55632491e-04, 2.48126441e-04, 2.40826307e-04,\n",
       "        2.33726893e-04, 2.26823119e-04, 2.20110023e-04, 2.13582755e-04,\n",
       "        2.07236575e-04, 2.01066854e-04, 1.95069068e-04, 1.89238796e-04,\n",
       "        1.83571722e-04, 1.78063629e-04, 1.72710398e-04, 1.67508009e-04,\n",
       "        1.62452531e-04, 1.57540131e-04, 1.52767064e-04, 1.48129673e-04,\n",
       "        1.43624389e-04, 1.39247728e-04, 1.34996289e-04, 1.30866753e-04,\n",
       "        1.26855880e-04, 1.22960509e-04, 1.19177555e-04, 1.15504008e-04,\n",
       "        1.11936932e-04, 1.08473462e-04, 1.05110802e-04, 1.01846228e-04,\n",
       "        9.86770793e-05, 9.56007637e-05, 9.26147523e-05, 8.97165789e-05,\n",
       "        8.69038393e-05, 8.41741890e-05, 8.15253425e-05, 7.89550719e-05,\n",
       "        7.64612054e-05, 7.40416260e-05, 7.16942707e-05, 6.94171289e-05,\n",
       "        6.72082412e-05, 6.50656986e-05, 6.29876409e-05, 6.09722558e-05,\n",
       "        5.90177778e-05, 5.71224872e-05, 5.52847089e-05, 5.35028113e-05,\n",
       "        5.17752055e-05, 5.01003441e-05, 4.84767205e-05, 4.69028674e-05,\n",
       "        4.53773567e-05, 4.38987977e-05, 4.24658367e-05, 4.10771562e-05,\n",
       "        3.97314736e-05, 3.84275409e-05, 3.71641432e-05, 3.59400986e-05,\n",
       "        3.47542569e-05, 3.36054991e-05, 3.24927365e-05, 3.14149100e-05]))"
      ]
     },
     "execution_count": 49,
     "metadata": {},
     "output_type": "execute_result"
    }
   ],
   "source": [
    "\n",
    "proba_z = 1 - norm.cdf(z)\n",
    "z, proba_z"
   ]
  },
  {
   "cell_type": "markdown",
   "metadata": {},
   "source": [
    "🧪 **Test your code**"
   ]
  },
  {
   "cell_type": "code",
   "execution_count": 50,
   "metadata": {},
   "outputs": [
    {
     "name": "stdout",
     "output_type": "stream",
     "text": [
      "\n",
      "\u001b[1m============================= test session starts ==============================\u001b[0m\n",
      "platform darwin -- Python 3.10.6, pytest-7.1.3, pluggy-1.0.0 -- /Users/francoisgirard/.pyenv/versions/lewagon/bin/python3\n",
      "cachedir: .pytest_cache\n",
      "rootdir: /Users/francoisgirard/code/francoisgirard51/03-Maths/02-Statistics-Probabilities/data-central-limit-theorem/tests\n",
      "plugins: asyncio-0.19.0, anyio-3.6.2\n",
      "asyncio: mode=strict\n",
      "\u001b[1mcollecting ... \u001b[0mcollected 3 items\n",
      "\n",
      "test_zscore.py::TestZscore::test_probability_is_valid \u001b[31mFAILED\u001b[0m\u001b[31m             [ 33%]\u001b[0m\n",
      "test_zscore.py::TestZscore::test_probability_is_very_low \u001b[31mFAILED\u001b[0m\u001b[31m          [ 66%]\u001b[0m\n",
      "test_zscore.py::TestZscore::test_z_score_value \u001b[31mFAILED\u001b[0m\u001b[31m                    [100%]\u001b[0m\n",
      "\n",
      "=================================== FAILURES ===================================\n",
      "\u001b[31m\u001b[1m_____________________ TestZscore.test_probability_is_valid _____________________\u001b[0m\n",
      "\n",
      "self = <tests.test_zscore.TestZscore testMethod=test_probability_is_valid>\n",
      "\n",
      "        \u001b[94mdef\u001b[39;49;00m \u001b[92mtest_probability_is_valid\u001b[39;49;00m(\u001b[96mself\u001b[39;49;00m):\n",
      ">           \u001b[96mself\u001b[39;49;00m.assertGreater(\n",
      "                \u001b[94m0.99\u001b[39;49;00m,\n",
      "                \u001b[96mself\u001b[39;49;00m.result.proba,\n",
      "                \u001b[33m'''The probability is way too high. Check what the\u001b[39;49;00m\n",
      "    \u001b[33m`scipy.stats.norm.cdf()` method returns.'''\u001b[39;49;00m\n",
      "            )\n",
      "\u001b[1m\u001b[31mE           ValueError: The truth value of an array with more than one element is ambiguous. Use a.any() or a.all()\u001b[0m\n",
      "\n",
      "\u001b[1m\u001b[31mtest_zscore.py\u001b[0m:24: ValueError\n",
      "\u001b[31m\u001b[1m___________________ TestZscore.test_probability_is_very_low ____________________\u001b[0m\n",
      "\n",
      "self = <tests.test_zscore.TestZscore testMethod=test_probability_is_very_low>\n",
      "\n",
      "    \u001b[94mdef\u001b[39;49;00m \u001b[92mtest_probability_is_very_low\u001b[39;49;00m(\u001b[96mself\u001b[39;49;00m):\n",
      ">       \u001b[96mself\u001b[39;49;00m.assertGreater(\n",
      "            \u001b[94m0.001\u001b[39;49;00m,\n",
      "            \u001b[96mself\u001b[39;49;00m.result.proba,\n",
      "            \u001b[33m'\u001b[39;49;00m\u001b[33mThe probability should be less than 0.1\u001b[39;49;00m\u001b[33m%\u001b[39;49;00m\u001b[33m.\u001b[39;49;00m\u001b[33m'\u001b[39;49;00m\n",
      "        )\n",
      "\u001b[1m\u001b[31mE       ValueError: The truth value of an array with more than one element is ambiguous. Use a.any() or a.all()\u001b[0m\n",
      "\n",
      "\u001b[1m\u001b[31mtest_zscore.py\u001b[0m:17: ValueError\n",
      "\u001b[31m\u001b[1m________________________ TestZscore.test_z_score_value _________________________\u001b[0m\n",
      "\n",
      "self = <tests.test_zscore.TestZscore testMethod=test_z_score_value>\n",
      "\n",
      "    \u001b[94mdef\u001b[39;49;00m \u001b[92mtest_z_score_value\u001b[39;49;00m(\u001b[96mself\u001b[39;49;00m):\n",
      ">       \u001b[96mself\u001b[39;49;00m.assertGreater(\n",
      "            \u001b[96mself\u001b[39;49;00m.result.z, \u001b[94m3.6\u001b[39;49;00m,\n",
      "            \u001b[33m'\u001b[39;49;00m\u001b[33mThe zscore should be more than 3.6\u001b[39;49;00m\u001b[33m'\u001b[39;49;00m\n",
      "        )\n",
      "\u001b[1m\u001b[31mE       ValueError: The truth value of an array with more than one element is ambiguous. Use a.any() or a.all()\u001b[0m\n",
      "\n",
      "\u001b[1m\u001b[31mtest_zscore.py\u001b[0m:6: ValueError\n",
      "=========================== short test summary info ============================\n",
      "FAILED test_zscore.py::TestZscore::test_probability_is_valid - ValueError: Th...\n",
      "FAILED test_zscore.py::TestZscore::test_probability_is_very_low - ValueError:...\n",
      "FAILED test_zscore.py::TestZscore::test_z_score_value - ValueError: The truth...\n",
      "\u001b[31m============================== \u001b[31m\u001b[1m3 failed\u001b[0m\u001b[31m in 0.34s\u001b[0m\u001b[31m ===============================\u001b[0m\n",
      "\n",
      "\n",
      "💯 You can commit your code:\n",
      "\n",
      "\u001b[1;32mgit\u001b[39m add tests/zscore.pickle\n",
      "\n",
      "\u001b[32mgit\u001b[39m commit -m \u001b[33m'Completed zscore step'\u001b[39m\n",
      "\n",
      "\u001b[32mgit\u001b[39m push origin master\n",
      "\n"
     ]
    }
   ],
   "source": [
    "from nbresult import ChallengeResult\n",
    "\n",
    "result = ChallengeResult('zscore',\n",
    "    z=z,\n",
    "    proba=proba_z\n",
    ")\n",
    "result.write()\n",
    "print(result.check())"
   ]
  },
  {
   "cell_type": "markdown",
   "metadata": {},
   "source": [
    "🎉 Congratulations if you managed to go through this challenge!\n",
    "\n",
    "📆 If you couldn't reach this one, we will revisit the `Central Limit Theorem` during the `Recap session`\n",
    "\n",
    "🥇 If you are a beast, challenge yourself with the optional exercises like `Bayes Theorem`, `Markov Chains` or `Mean without outliers`!"
   ]
  },
  {
   "cell_type": "code",
   "execution_count": null,
   "metadata": {},
   "outputs": [],
   "source": []
  },
  {
   "cell_type": "code",
   "execution_count": null,
   "metadata": {},
   "outputs": [],
   "source": []
  }
 ],
 "metadata": {
  "kernelspec": {
   "display_name": "Python 3 (ipykernel)",
   "language": "python",
   "name": "python3"
  },
  "language_info": {
   "codemirror_mode": {
    "name": "ipython",
    "version": 3
   },
   "file_extension": ".py",
   "mimetype": "text/x-python",
   "name": "python",
   "nbconvert_exporter": "python",
   "pygments_lexer": "ipython3",
   "version": "3.10.6"
  },
  "toc": {
   "base_numbering": 1,
   "nav_menu": {},
   "number_sections": true,
   "sideBar": true,
   "skip_h1_title": false,
   "title_cell": "Table of Contents",
   "title_sidebar": "Contents",
   "toc_cell": false,
   "toc_position": {},
   "toc_section_display": true,
   "toc_window_display": false
  }
 },
 "nbformat": 4,
 "nbformat_minor": 4
}
